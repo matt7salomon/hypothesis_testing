{
 "cells": [
  {
   "cell_type": "markdown",
   "metadata": {},
   "source": [
    "# QUESTION 2\n",
    "## A."
   ]
  },
  {
   "cell_type": "code",
   "execution_count": 189,
   "metadata": {},
   "outputs": [],
   "source": [
    "import pandas as pd\n",
    "import numpy as np\n",
    "import os\n",
    "from dotenv import load_dotenv,find_dotenv\n",
    "load_dotenv('/Users/mattsalomon/Downloads/Takehomes/Uber/')\n",
    "api_key=os.environ['api_key']\n",
    "plotly_api_key=os.environ['plotly_api_key']"
   ]
  },
  {
   "cell_type": "markdown",
   "metadata": {},
   "source": [
    "## Reading in Mock_accident Data and Correcting Types"
   ]
  },
  {
   "cell_type": "code",
   "execution_count": 38,
   "metadata": {},
   "outputs": [],
   "source": [
    "mock_accident = pd.read_csv('mock_accident_data (2) (1).csv')\n",
    "mock_accident.Miles = mock_accident.Miles.str.replace(',','').astype(int)\n",
    "mock_accident.Reported_Accidents = mock_accident.Reported_Accidents.replace(',','').astype(int)\n",
    "mock_accident.Month_Ending =  pd.to_datetime(mock_accident.Month_Ending)\n",
    "#mock_accident.Segment = mock_accident.Segment.to_string()\n",
    "#mock_accident.Product = mock_accident.Product.to_string()"
   ]
  },
  {
   "cell_type": "code",
   "execution_count": 39,
   "metadata": {},
   "outputs": [
    {
     "data": {
      "text/html": [
       "<div>\n",
       "<style scoped>\n",
       "    .dataframe tbody tr th:only-of-type {\n",
       "        vertical-align: middle;\n",
       "    }\n",
       "\n",
       "    .dataframe tbody tr th {\n",
       "        vertical-align: top;\n",
       "    }\n",
       "\n",
       "    .dataframe thead th {\n",
       "        text-align: right;\n",
       "    }\n",
       "</style>\n",
       "<table border=\"1\" class=\"dataframe\">\n",
       "  <thead>\n",
       "    <tr style=\"text-align: right;\">\n",
       "      <th></th>\n",
       "      <th>Month_Ending</th>\n",
       "      <th>Segment</th>\n",
       "      <th>City</th>\n",
       "      <th>Product</th>\n",
       "      <th>Miles</th>\n",
       "      <th>Reported_Accidents</th>\n",
       "    </tr>\n",
       "  </thead>\n",
       "  <tbody>\n",
       "    <tr>\n",
       "      <th>0</th>\n",
       "      <td>2015-09-30</td>\n",
       "      <td>Segment A</td>\n",
       "      <td>City 1</td>\n",
       "      <td>Product 1</td>\n",
       "      <td>32</td>\n",
       "      <td>0</td>\n",
       "    </tr>\n",
       "    <tr>\n",
       "      <th>1</th>\n",
       "      <td>2015-09-30</td>\n",
       "      <td>Segment A</td>\n",
       "      <td>City 2</td>\n",
       "      <td>Product 2</td>\n",
       "      <td>19648</td>\n",
       "      <td>1</td>\n",
       "    </tr>\n",
       "    <tr>\n",
       "      <th>2</th>\n",
       "      <td>2015-09-30</td>\n",
       "      <td>Segment A</td>\n",
       "      <td>City 3</td>\n",
       "      <td>Product 3</td>\n",
       "      <td>64</td>\n",
       "      <td>0</td>\n",
       "    </tr>\n",
       "    <tr>\n",
       "      <th>3</th>\n",
       "      <td>2015-09-30</td>\n",
       "      <td>Segment A</td>\n",
       "      <td>City 4</td>\n",
       "      <td>Product 1</td>\n",
       "      <td>2</td>\n",
       "      <td>0</td>\n",
       "    </tr>\n",
       "    <tr>\n",
       "      <th>4</th>\n",
       "      <td>2015-09-30</td>\n",
       "      <td>Segment A</td>\n",
       "      <td>City 5</td>\n",
       "      <td>Product 4</td>\n",
       "      <td>2367</td>\n",
       "      <td>0</td>\n",
       "    </tr>\n",
       "    <tr>\n",
       "      <th>5</th>\n",
       "      <td>2015-09-30</td>\n",
       "      <td>Segment A</td>\n",
       "      <td>City 6</td>\n",
       "      <td>Product 2</td>\n",
       "      <td>30</td>\n",
       "      <td>0</td>\n",
       "    </tr>\n",
       "    <tr>\n",
       "      <th>6</th>\n",
       "      <td>2015-09-30</td>\n",
       "      <td>Segment A</td>\n",
       "      <td>City 7</td>\n",
       "      <td>Product 5</td>\n",
       "      <td>45</td>\n",
       "      <td>0</td>\n",
       "    </tr>\n",
       "    <tr>\n",
       "      <th>7</th>\n",
       "      <td>2015-09-30</td>\n",
       "      <td>Segment A</td>\n",
       "      <td>City 8</td>\n",
       "      <td>Product 2</td>\n",
       "      <td>730</td>\n",
       "      <td>0</td>\n",
       "    </tr>\n",
       "    <tr>\n",
       "      <th>8</th>\n",
       "      <td>2015-09-30</td>\n",
       "      <td>Segment B</td>\n",
       "      <td>City 7</td>\n",
       "      <td>Product 6</td>\n",
       "      <td>190736</td>\n",
       "      <td>3</td>\n",
       "    </tr>\n",
       "    <tr>\n",
       "      <th>9</th>\n",
       "      <td>2015-09-30</td>\n",
       "      <td>Segment B</td>\n",
       "      <td>City 6</td>\n",
       "      <td>Product 6</td>\n",
       "      <td>6883</td>\n",
       "      <td>0</td>\n",
       "    </tr>\n",
       "  </tbody>\n",
       "</table>\n",
       "</div>"
      ],
      "text/plain": [
       "  Month_Ending    Segment    City    Product   Miles  Reported_Accidents\n",
       "0   2015-09-30  Segment A  City 1  Product 1      32                   0\n",
       "1   2015-09-30  Segment A  City 2  Product 2   19648                   1\n",
       "2   2015-09-30  Segment A  City 3  Product 3      64                   0\n",
       "3   2015-09-30  Segment A  City 4  Product 1       2                   0\n",
       "4   2015-09-30  Segment A  City 5  Product 4    2367                   0\n",
       "5   2015-09-30  Segment A  City 6  Product 2      30                   0\n",
       "6   2015-09-30  Segment A  City 7  Product 5      45                   0\n",
       "7   2015-09-30  Segment A  City 8  Product 2     730                   0\n",
       "8   2015-09-30  Segment B  City 7  Product 6  190736                   3\n",
       "9   2015-09-30  Segment B  City 6  Product 6    6883                   0"
      ]
     },
     "execution_count": 39,
     "metadata": {},
     "output_type": "execute_result"
    }
   ],
   "source": [
    "mock_accident.head(10)\n",
    "#mock_accident.City.unique()"
   ]
  },
  {
   "cell_type": "code",
   "execution_count": 40,
   "metadata": {},
   "outputs": [
    {
     "data": {
      "text/html": [
       "<div>\n",
       "<style scoped>\n",
       "    .dataframe tbody tr th:only-of-type {\n",
       "        vertical-align: middle;\n",
       "    }\n",
       "\n",
       "    .dataframe tbody tr th {\n",
       "        vertical-align: top;\n",
       "    }\n",
       "\n",
       "    .dataframe thead th {\n",
       "        text-align: right;\n",
       "    }\n",
       "</style>\n",
       "<table border=\"1\" class=\"dataframe\">\n",
       "  <thead>\n",
       "    <tr style=\"text-align: right;\">\n",
       "      <th></th>\n",
       "      <th>Miles</th>\n",
       "      <th>Reported_Accidents</th>\n",
       "    </tr>\n",
       "  </thead>\n",
       "  <tbody>\n",
       "    <tr>\n",
       "      <th>count</th>\n",
       "      <td>7.911000e+03</td>\n",
       "      <td>7911.000000</td>\n",
       "    </tr>\n",
       "    <tr>\n",
       "      <th>mean</th>\n",
       "      <td>2.146245e+05</td>\n",
       "      <td>3.734168</td>\n",
       "    </tr>\n",
       "    <tr>\n",
       "      <th>std</th>\n",
       "      <td>1.528441e+06</td>\n",
       "      <td>30.346849</td>\n",
       "    </tr>\n",
       "    <tr>\n",
       "      <th>min</th>\n",
       "      <td>0.000000e+00</td>\n",
       "      <td>-1.000000</td>\n",
       "    </tr>\n",
       "    <tr>\n",
       "      <th>25%</th>\n",
       "      <td>2.800000e+01</td>\n",
       "      <td>0.000000</td>\n",
       "    </tr>\n",
       "    <tr>\n",
       "      <th>50%</th>\n",
       "      <td>9.990000e+02</td>\n",
       "      <td>0.000000</td>\n",
       "    </tr>\n",
       "    <tr>\n",
       "      <th>75%</th>\n",
       "      <td>1.806500e+04</td>\n",
       "      <td>0.000000</td>\n",
       "    </tr>\n",
       "    <tr>\n",
       "      <th>max</th>\n",
       "      <td>3.436831e+07</td>\n",
       "      <td>1534.000000</td>\n",
       "    </tr>\n",
       "  </tbody>\n",
       "</table>\n",
       "</div>"
      ],
      "text/plain": [
       "              Miles  Reported_Accidents\n",
       "count  7.911000e+03         7911.000000\n",
       "mean   2.146245e+05            3.734168\n",
       "std    1.528441e+06           30.346849\n",
       "min    0.000000e+00           -1.000000\n",
       "25%    2.800000e+01            0.000000\n",
       "50%    9.990000e+02            0.000000\n",
       "75%    1.806500e+04            0.000000\n",
       "max    3.436831e+07         1534.000000"
      ]
     },
     "execution_count": 40,
     "metadata": {},
     "output_type": "execute_result"
    }
   ],
   "source": [
    "mock_accident.describe()"
   ]
  },
  {
   "cell_type": "code",
   "execution_count": 41,
   "metadata": {},
   "outputs": [
    {
     "name": "stdout",
     "output_type": "stream",
     "text": [
      "<class 'pandas.core.frame.DataFrame'>\n",
      "RangeIndex: 7911 entries, 0 to 7910\n",
      "Data columns (total 6 columns):\n",
      " #   Column              Non-Null Count  Dtype         \n",
      "---  ------              --------------  -----         \n",
      " 0   Month_Ending        7911 non-null   datetime64[ns]\n",
      " 1   Segment             7911 non-null   object        \n",
      " 2   City                7907 non-null   object        \n",
      " 3   Product             7911 non-null   object        \n",
      " 4   Miles               7911 non-null   int64         \n",
      " 5   Reported_Accidents  7911 non-null   int64         \n",
      "dtypes: datetime64[ns](1), int64(2), object(3)\n",
      "memory usage: 371.0+ KB\n"
     ]
    }
   ],
   "source": [
    "mock_accident.info()"
   ]
  },
  {
   "cell_type": "code",
   "execution_count": 42,
   "metadata": {},
   "outputs": [],
   "source": [
    "import matplotlib.pyplot as plt\n",
    "import numpy as np\n",
    "%matplotlib inline\n",
    "\n",
    "#import plotly.plotly as py\n",
    "#py.tools.set_credentials_file(username='miladf2', api_key='AmAh5Zfzmq296NaN2KpZ')"
   ]
  },
  {
   "cell_type": "markdown",
   "metadata": {},
   "source": [
    "## Reported_accidents"
   ]
  },
  {
   "cell_type": "code",
   "execution_count": 43,
   "metadata": {},
   "outputs": [
    {
     "data": {
      "image/png": "[encoded data removed]",
      "text/plain": [
       "<Figure size 640x480 with 1 Axes>"
      ]
     },
     "metadata": {},
     "output_type": "display_data"
    }
   ],
   "source": [
    "#gaussian_numbers = np.random.randn(1000)\n",
    "plt.hist(mock_accident.Reported_Accidents)\n",
    "plt.title(\"Gaussian Histogram\")\n",
    "plt.xlabel(\"Value\")\n",
    "plt.ylabel(\"Frequency\")\n",
    "\n",
    "fig = plt.gcf()\n",
    "\n",
    "#plot_url = py.plot_mpl(fig, filename='mpl-basic-histogram')"
   ]
  },
  {
   "cell_type": "code",
   "execution_count": 44,
   "metadata": {},
   "outputs": [
    {
     "name": "stdout",
     "output_type": "stream",
     "text": [
      "316    1534\n",
      "Name: Reported_Accidents, dtype: int64\n",
      "7911\n",
      "7859\n"
     ]
    }
   ],
   "source": [
    "print (mock_accident.Reported_Accidents[mock_accident.Reported_Accidents > 700])\n",
    "print(len(mock_accident.Reported_Accidents))\n",
    "mock_accident = mock_accident[mock_accident.Reported_Accidents < 700]\n",
    "mock_accident = mock_accident[mock_accident.Reported_Accidents>=0]\n",
    "print(len(mock_accident.Reported_Accidents))"
   ]
  },
  {
   "cell_type": "code",
   "execution_count": 45,
   "metadata": {},
   "outputs": [
    {
     "data": {
      "image/png": "[encoded data removed]",
      "text/plain": [
       "<Figure size 640x480 with 1 Axes>"
      ]
     },
     "metadata": {},
     "output_type": "display_data"
    }
   ],
   "source": [
    "#gaussian_numbers = np.random.randn(1000)\n",
    "plt.hist(mock_accident.Reported_Accidents)\n",
    "plt.title(\"Gaussian Histogram\")\n",
    "plt.xlabel(\"Value\")\n",
    "plt.ylabel(\"Frequency\")\n",
    "\n",
    "fig = plt.gcf()"
   ]
  },
  {
   "cell_type": "markdown",
   "metadata": {},
   "source": [
    "## Miles"
   ]
  },
  {
   "cell_type": "code",
   "execution_count": 46,
   "metadata": {},
   "outputs": [
    {
     "data": {
      "image/png": "[encoded data removed]",
      "text/plain": [
       "<Figure size 640x480 with 1 Axes>"
      ]
     },
     "metadata": {},
     "output_type": "display_data"
    }
   ],
   "source": [
    "#gaussian_numbers = np.random.randn(1000)\n",
    "plt.hist(mock_accident.Miles)\n",
    "plt.title(\"Gaussian Histogram\")\n",
    "plt.xlabel(\"Value\")\n",
    "plt.ylabel(\"Frequency\")\n",
    "\n",
    "fig = plt.gcf()"
   ]
  },
  {
   "cell_type": "code",
   "execution_count": 47,
   "metadata": {},
   "outputs": [],
   "source": [
    "mock_accident.Miles[mock_accident.Miles>4e5] = 0"
   ]
  },
  {
   "cell_type": "code",
   "execution_count": 48,
   "metadata": {},
   "outputs": [
    {
     "data": {
      "image/png": "[encoded data removed]",
      "text/plain": [
       "<Figure size 640x480 with 1 Axes>"
      ]
     },
     "metadata": {},
     "output_type": "display_data"
    }
   ],
   "source": [
    "#gaussian_numbers = np.random.randn(1000)\n",
    "plt.hist(mock_accident.Miles)\n",
    "plt.title(\"Gaussian Histogram\")\n",
    "plt.xlabel(\"Value\")\n",
    "plt.ylabel(\"Frequency\")\n",
    "\n",
    "fig = plt.gcf()"
   ]
  },
  {
   "cell_type": "markdown",
   "metadata": {},
   "source": [
    "## B.\n",
    "## Total Accidents Per Segment"
   ]
  },
  {
   "cell_type": "code",
   "execution_count": 49,
   "metadata": {},
   "outputs": [
    {
     "data": {
      "text/plain": [
       "<Axes: xlabel='Segment', ylabel='Miles'>"
      ]
     },
     "execution_count": 49,
     "metadata": {},
     "output_type": "execute_result"
    },
    {
     "data": {
      "image/png": "[encoded data removed]",
      "text/plain": [
       "<Figure size 1600x1000 with 1 Axes>"
      ]
     },
     "metadata": {},
     "output_type": "display_data"
    }
   ],
   "source": [
    "import seaborn as sns\n",
    "import matplotlib.pyplot as plt\n",
    "sns.set(style=\"whitegrid\")\n",
    "\n",
    "# Initialize the matplotlib figure\n",
    "f, ax = plt.subplots(figsize=(16, 10))\n",
    "\n",
    "\n",
    "# Plot the total crashes\n",
    "sns.set_color_codes(\"pastel\")\n",
    "sns.barplot(x=\"Segment\", y=\"Miles\", data=mock_accident,\n",
    "            label=\"Total\", color=\"b\")"
   ]
  },
  {
   "cell_type": "markdown",
   "metadata": {},
   "source": [
    "## Total Accidents per Month"
   ]
  },
  {
   "cell_type": "code",
   "execution_count": 50,
   "metadata": {},
   "outputs": [
    {
     "name": "stderr",
     "output_type": "stream",
     "text": [
      "/var/folders/45/07b7h57d7d1gx4px8xjqcx640000gn/T/ipykernel_58680/751103746.py:1: FutureWarning:\n",
      "\n",
      "The operation <built-in function sum> failed on a column. If any error is raised, this will raise an exception in a future version of pandas. Drop these columns to avoid this warning.\n",
      "\n",
      "/var/folders/45/07b7h57d7d1gx4px8xjqcx640000gn/T/ipykernel_58680/751103746.py:18: UserWarning:\n",
      "\n",
      "FixedFormatter should only be used together with FixedLocator\n",
      "\n"
     ]
    },
    {
     "data": {
      "text/plain": [
       "[Text(0, 0, '2015-09-30T00:00:00.000000000'),\n",
       " Text(1, 0, '2015-10-31T00:00:00.000000000'),\n",
       " Text(2, 0, '2015-11-30T00:00:00.000000000'),\n",
       " Text(3, 0, '2015-12-31T00:00:00.000000000'),\n",
       " Text(4, 0, '2016-01-31T00:00:00.000000000'),\n",
       " Text(5, 0, '2016-02-29T00:00:00.000000000'),\n",
       " Text(6, 0, '2016-03-31T00:00:00.000000000'),\n",
       " Text(7, 0, '2016-04-30T00:00:00.000000000'),\n",
       " Text(8, 0, '2016-05-31T00:00:00.000000000'),\n",
       " Text(9, 0, '2016-06-30T00:00:00.000000000'),\n",
       " Text(10, 0, '2016-07-31T00:00:00.000000000'),\n",
       " Text(11, 0, '2016-08-31T00:00:00.000000000'),\n",
       " Text(12, 0, '2016-09-30T00:00:00.000000000'),\n",
       " Text(13, 0, '2016-10-31T00:00:00.000000000'),\n",
       " Text(14, 0, '2016-11-30T00:00:00.000000000'),\n",
       " Text(15, 0, '2016-12-31T00:00:00.000000000')]"
      ]
     },
     "execution_count": 50,
     "metadata": {},
     "output_type": "execute_result"
    },
    {
     "data": {
      "image/png": "[encoded data removed]",
      "text/plain": [
       "<Figure size 1600x1000 with 1 Axes>"
      ]
     },
     "metadata": {},
     "output_type": "display_data"
    }
   ],
   "source": [
    "mock_accident_sum = mock_accident.groupby('Month_Ending').agg(sum)\n",
    "mock_accident_sum['Month_Ending'] = mock_accident_sum.index\n",
    "\n",
    "labels = mock_accident['Month_Ending'].unique()\n",
    "\n",
    "import seaborn as sns\n",
    "import matplotlib.pyplot as plt\n",
    "sns.set(style=\"whitegrid\")\n",
    "\n",
    "# Initialize the matplotlib figure\n",
    "f, ax = plt.subplots(figsize=(16, 10))\n",
    "\n",
    "\n",
    "# Plot the total crashes\n",
    "sns.set_color_codes(\"pastel\")\n",
    "g = sns.barplot(x = 'Month_Ending', y = \"Reported_Accidents\", data = mock_accident_sum,\n",
    "             color = \"b\" )\n",
    "g.set_xticklabels(labels = labels, rotation = 90)"
   ]
  },
  {
   "cell_type": "code",
   "execution_count": 51,
   "metadata": {},
   "outputs": [
    {
     "data": {
      "text/html": [
       "<div>\n",
       "<style scoped>\n",
       "    .dataframe tbody tr th:only-of-type {\n",
       "        vertical-align: middle;\n",
       "    }\n",
       "\n",
       "    .dataframe tbody tr th {\n",
       "        vertical-align: top;\n",
       "    }\n",
       "\n",
       "    .dataframe thead th {\n",
       "        text-align: right;\n",
       "    }\n",
       "</style>\n",
       "<table border=\"1\" class=\"dataframe\">\n",
       "  <thead>\n",
       "    <tr style=\"text-align: right;\">\n",
       "      <th></th>\n",
       "      <th>Miles</th>\n",
       "      <th>Reported_Accidents</th>\n",
       "      <th>Month_Ending</th>\n",
       "    </tr>\n",
       "    <tr>\n",
       "      <th>Month_Ending</th>\n",
       "      <th></th>\n",
       "      <th></th>\n",
       "      <th></th>\n",
       "    </tr>\n",
       "  </thead>\n",
       "  <tbody>\n",
       "    <tr>\n",
       "      <th>2015-09-30</th>\n",
       "      <td>5404264</td>\n",
       "      <td>801</td>\n",
       "      <td>2015-09-30</td>\n",
       "    </tr>\n",
       "    <tr>\n",
       "      <th>2015-10-31</th>\n",
       "      <td>5765383</td>\n",
       "      <td>668</td>\n",
       "      <td>2015-10-31</td>\n",
       "    </tr>\n",
       "    <tr>\n",
       "      <th>2015-11-30</th>\n",
       "      <td>6548065</td>\n",
       "      <td>990</td>\n",
       "      <td>2015-11-30</td>\n",
       "    </tr>\n",
       "    <tr>\n",
       "      <th>2015-12-31</th>\n",
       "      <td>7761454</td>\n",
       "      <td>1063</td>\n",
       "      <td>2015-12-31</td>\n",
       "    </tr>\n",
       "    <tr>\n",
       "      <th>2016-01-31</th>\n",
       "      <td>8438523</td>\n",
       "      <td>1296</td>\n",
       "      <td>2016-01-31</td>\n",
       "    </tr>\n",
       "    <tr>\n",
       "      <th>2016-02-29</th>\n",
       "      <td>7115582</td>\n",
       "      <td>1446</td>\n",
       "      <td>2016-02-29</td>\n",
       "    </tr>\n",
       "    <tr>\n",
       "      <th>2016-03-31</th>\n",
       "      <td>7913764</td>\n",
       "      <td>1526</td>\n",
       "      <td>2016-03-31</td>\n",
       "    </tr>\n",
       "    <tr>\n",
       "      <th>2016-04-30</th>\n",
       "      <td>8433251</td>\n",
       "      <td>1594</td>\n",
       "      <td>2016-04-30</td>\n",
       "    </tr>\n",
       "    <tr>\n",
       "      <th>2016-05-31</th>\n",
       "      <td>9360636</td>\n",
       "      <td>1794</td>\n",
       "      <td>2016-05-31</td>\n",
       "    </tr>\n",
       "    <tr>\n",
       "      <th>2016-06-30</th>\n",
       "      <td>9670826</td>\n",
       "      <td>2048</td>\n",
       "      <td>2016-06-30</td>\n",
       "    </tr>\n",
       "    <tr>\n",
       "      <th>2016-07-31</th>\n",
       "      <td>11822305</td>\n",
       "      <td>2119</td>\n",
       "      <td>2016-07-31</td>\n",
       "    </tr>\n",
       "    <tr>\n",
       "      <th>2016-08-31</th>\n",
       "      <td>11796321</td>\n",
       "      <td>2339</td>\n",
       "      <td>2016-08-31</td>\n",
       "    </tr>\n",
       "    <tr>\n",
       "      <th>2016-09-30</th>\n",
       "      <td>12585704</td>\n",
       "      <td>2273</td>\n",
       "      <td>2016-09-30</td>\n",
       "    </tr>\n",
       "    <tr>\n",
       "      <th>2016-10-31</th>\n",
       "      <td>12872390</td>\n",
       "      <td>2339</td>\n",
       "      <td>2016-10-31</td>\n",
       "    </tr>\n",
       "    <tr>\n",
       "      <th>2016-11-30</th>\n",
       "      <td>14093031</td>\n",
       "      <td>2957</td>\n",
       "      <td>2016-11-30</td>\n",
       "    </tr>\n",
       "    <tr>\n",
       "      <th>2016-12-31</th>\n",
       "      <td>14517855</td>\n",
       "      <td>2805</td>\n",
       "      <td>2016-12-31</td>\n",
       "    </tr>\n",
       "  </tbody>\n",
       "</table>\n",
       "</div>"
      ],
      "text/plain": [
       "                 Miles  Reported_Accidents Month_Ending\n",
       "Month_Ending                                           \n",
       "2015-09-30     5404264                 801   2015-09-30\n",
       "2015-10-31     5765383                 668   2015-10-31\n",
       "2015-11-30     6548065                 990   2015-11-30\n",
       "2015-12-31     7761454                1063   2015-12-31\n",
       "2016-01-31     8438523                1296   2016-01-31\n",
       "2016-02-29     7115582                1446   2016-02-29\n",
       "2016-03-31     7913764                1526   2016-03-31\n",
       "2016-04-30     8433251                1594   2016-04-30\n",
       "2016-05-31     9360636                1794   2016-05-31\n",
       "2016-06-30     9670826                2048   2016-06-30\n",
       "2016-07-31    11822305                2119   2016-07-31\n",
       "2016-08-31    11796321                2339   2016-08-31\n",
       "2016-09-30    12585704                2273   2016-09-30\n",
       "2016-10-31    12872390                2339   2016-10-31\n",
       "2016-11-30    14093031                2957   2016-11-30\n",
       "2016-12-31    14517855                2805   2016-12-31"
      ]
     },
     "execution_count": 51,
     "metadata": {},
     "output_type": "execute_result"
    }
   ],
   "source": [
    "mock_accident_sum"
   ]
  },
  {
   "cell_type": "markdown",
   "metadata": {},
   "source": [
    "## C. Forecast using ARIMA"
   ]
  },
  {
   "cell_type": "code",
   "execution_count": 52,
   "metadata": {},
   "outputs": [],
   "source": [
    "X = pd.Series(index = mock_accident_sum.index, data = mock_accident_sum['Reported_Accidents'].astype('float'))\n",
    "size = int(len(X) * 0.8)\n",
    "train, test = X[0:size], X[size:len(X)]\n",
    "history = [x for x in train]"
   ]
  },
  {
   "cell_type": "code",
   "execution_count": 53,
   "metadata": {},
   "outputs": [
    {
     "name": "stderr",
     "output_type": "stream",
     "text": [
      "/Users/mattsalomon/miniconda3/lib/python3.10/site-packages/statsmodels/tsa/base/tsa_model.py:473: ValueWarning:\n",
      "\n",
      "No frequency information was provided, so inferred frequency M will be used.\n",
      "\n",
      "/Users/mattsalomon/miniconda3/lib/python3.10/site-packages/statsmodels/tsa/base/tsa_model.py:473: ValueWarning:\n",
      "\n",
      "No frequency information was provided, so inferred frequency M will be used.\n",
      "\n",
      "/Users/mattsalomon/miniconda3/lib/python3.10/site-packages/statsmodels/tsa/base/tsa_model.py:473: ValueWarning:\n",
      "\n",
      "No frequency information was provided, so inferred frequency M will be used.\n",
      "\n",
      "/Users/mattsalomon/miniconda3/lib/python3.10/site-packages/statsmodels/tsa/statespace/sarimax.py:966: UserWarning:\n",
      "\n",
      "Non-stationary starting autoregressive parameters found. Using zeros as starting parameters.\n",
      "\n"
     ]
    },
    {
     "data": {
      "image/png": "[encoded data removed]",
      "text/plain": [
       "<Figure size 1600x1000 with 1 Axes>"
      ]
     },
     "metadata": {},
     "output_type": "display_data"
    }
   ],
   "source": [
    "from sklearn.metrics import mean_squared_error\n",
    "from statsmodels.tsa.arima.model import ARIMA\n",
    "from matplotlib import pyplot\n",
    " \n",
    "\n",
    "import datetime\n",
    "\n",
    "X = pd.Series(index = mock_accident_sum.index, data = mock_accident_sum['Reported_Accidents'].astype('float'))\n",
    "size = int(len(X) * 0.8)\n",
    "train, test = X[0:size], X[size:len(X)]\n",
    "history = [x for x in train]\n",
    "\n",
    "\n",
    "predictions = list()\n",
    "\n",
    "model = ARIMA(X, order=(4,1,0))\n",
    "model_fit = model.fit()\n",
    "output = model_fit.forecast()\n",
    "yhat = output[0]\n",
    "#print yhat\n",
    "\n",
    "date1 = datetime.datetime(2017,1,1)\n",
    "X[date1] = float(yhat)\n",
    "\n",
    "plt.subplots(figsize=(16, 10))\n",
    "pyplot.plot(X, color='red')\n",
    "pyplot.show()"
   ]
  },
  {
   "cell_type": "markdown",
   "metadata": {},
   "source": [
    "### Based on your work in B above, provide a forecast for overall reported accident rate for Jan 2017."
   ]
  },
  {
   "cell_type": "code",
   "execution_count": 54,
   "metadata": {},
   "outputs": [
    {
     "name": "stdout",
     "output_type": "stream",
     "text": [
      "3015.3446512143473\n"
     ]
    }
   ],
   "source": [
    "print(X[date1])"
   ]
  },
  {
   "cell_type": "code",
   "execution_count": 55,
   "metadata": {},
   "outputs": [
    {
     "name": "stderr",
     "output_type": "stream",
     "text": [
      "/var/folders/45/07b7h57d7d1gx4px8xjqcx640000gn/T/ipykernel_58680/2151918027.py:1: FutureWarning:\n",
      "\n",
      "The default value of numeric_only in DataFrameGroupBy.sum is deprecated. In a future version, numeric_only will default to False. Either specify numeric_only or select only columns which should be valid for the function.\n",
      "\n",
      "/var/folders/45/07b7h57d7d1gx4px8xjqcx640000gn/T/ipykernel_58680/2151918027.py:18: UserWarning:\n",
      "\n",
      "FixedFormatter should only be used together with FixedLocator\n",
      "\n"
     ]
    },
    {
     "data": {
      "text/plain": [
       "[Text(0, 0, '2015-09-30T00:00:00.000000000'),\n",
       " Text(1, 0, '2015-10-31T00:00:00.000000000'),\n",
       " Text(2, 0, '2015-11-30T00:00:00.000000000'),\n",
       " Text(3, 0, '2015-12-31T00:00:00.000000000'),\n",
       " Text(4, 0, '2016-01-31T00:00:00.000000000'),\n",
       " Text(5, 0, '2016-02-29T00:00:00.000000000'),\n",
       " Text(6, 0, '2016-03-31T00:00:00.000000000'),\n",
       " Text(7, 0, '2016-04-30T00:00:00.000000000'),\n",
       " Text(8, 0, '2016-05-31T00:00:00.000000000'),\n",
       " Text(9, 0, '2016-06-30T00:00:00.000000000'),\n",
       " Text(10, 0, '2016-07-31T00:00:00.000000000'),\n",
       " Text(11, 0, '2016-08-31T00:00:00.000000000'),\n",
       " Text(12, 0, '2016-09-30T00:00:00.000000000'),\n",
       " Text(13, 0, '2016-10-31T00:00:00.000000000'),\n",
       " Text(14, 0, '2016-11-30T00:00:00.000000000'),\n",
       " Text(15, 0, '2016-12-31T00:00:00.000000000')]"
      ]
     },
     "execution_count": 55,
     "metadata": {},
     "output_type": "execute_result"
    },
    {
     "data": {
      "image/png": "[encoded data removed]",
      "text/plain": [
       "<Figure size 1600x1500 with 1 Axes>"
      ]
     },
     "metadata": {},
     "output_type": "display_data"
    }
   ],
   "source": [
    "mock_accident_avg = mock_accident.groupby('Month_Ending').agg('sum')\n",
    "mock_accident_avg['Month_Ending'] = mock_accident_avg.index\n",
    "\n",
    "labels = mock_accident['Month_Ending'].unique()\n",
    "\n",
    "import seaborn as sns\n",
    "import matplotlib.pyplot as plt\n",
    "sns.set(style=\"whitegrid\")\n",
    "\n",
    "# Initialize the matplotlib figure\n",
    "f, ax = plt.subplots(figsize=(16, 15))\n",
    "\n",
    "\n",
    "# Plot the total crashes\n",
    "sns.set_color_codes(\"pastel\")\n",
    "g = sns.barplot(x = 'Month_Ending', y = \"Miles\", data = mock_accident_avg,\n",
    "             color=\"b\" )\n",
    "g.set_xticklabels(labels=labels, rotation=90)"
   ]
  },
  {
   "cell_type": "markdown",
   "metadata": {
    "collapsed": true
   },
   "source": [
    "## D. Model Linear Regression"
   ]
  },
  {
   "cell_type": "code",
   "execution_count": 56,
   "metadata": {},
   "outputs": [
    {
     "data": {
      "text/plain": [
       "Index(['Month_Ending', 'Segment', 'City', 'Product'], dtype='object')"
      ]
     },
     "execution_count": 56,
     "metadata": {},
     "output_type": "execute_result"
    }
   ],
   "source": [
    "# analyze the reported accident rate per mile as a function of the features in the data\n",
    "\n",
    "mock_accident['ratio'] = mock_accident['Reported_Accidents']/mock_accident['Miles']\n",
    "mock_accident = mock_accident[np.isfinite(mock_accident['ratio'])]\n",
    "mock_accident = mock_accident[mock_accident['ratio']>=0]\n",
    "#mock_accident = mock_accident[np.isnan(mock_accident['ratio'])]\n",
    "\n",
    "\n",
    "X_train_pre = mock_accident.drop(['Reported_Accidents','Miles','ratio'],axis = 1)\n",
    "y_train = mock_accident['ratio']*1e5\n",
    "X_train_pre.columns"
   ]
  },
  {
   "cell_type": "code",
   "execution_count": 57,
   "metadata": {},
   "outputs": [
    {
     "data": {
      "text/html": [
       "<div>\n",
       "<style scoped>\n",
       "    .dataframe tbody tr th:only-of-type {\n",
       "        vertical-align: middle;\n",
       "    }\n",
       "\n",
       "    .dataframe tbody tr th {\n",
       "        vertical-align: top;\n",
       "    }\n",
       "\n",
       "    .dataframe thead th {\n",
       "        text-align: right;\n",
       "    }\n",
       "</style>\n",
       "<table border=\"1\" class=\"dataframe\">\n",
       "  <thead>\n",
       "    <tr style=\"text-align: right;\">\n",
       "      <th></th>\n",
       "      <th>Month_Ending_2015-09-30 00:00:00</th>\n",
       "      <th>Month_Ending_2015-10-31 00:00:00</th>\n",
       "      <th>Month_Ending_2015-11-30 00:00:00</th>\n",
       "      <th>Month_Ending_2015-12-31 00:00:00</th>\n",
       "      <th>Month_Ending_2016-01-31 00:00:00</th>\n",
       "      <th>Month_Ending_2016-02-29 00:00:00</th>\n",
       "      <th>Month_Ending_2016-03-31 00:00:00</th>\n",
       "      <th>Month_Ending_2016-04-30 00:00:00</th>\n",
       "      <th>Month_Ending_2016-05-31 00:00:00</th>\n",
       "      <th>Month_Ending_2016-06-30 00:00:00</th>\n",
       "      <th>...</th>\n",
       "      <th>Product_Product 20</th>\n",
       "      <th>Product_Product 21</th>\n",
       "      <th>Product_Product 22</th>\n",
       "      <th>Product_Product 3</th>\n",
       "      <th>Product_Product 4</th>\n",
       "      <th>Product_Product 5</th>\n",
       "      <th>Product_Product 6</th>\n",
       "      <th>Product_Product 7</th>\n",
       "      <th>Product_Product 8</th>\n",
       "      <th>Product_Product 9</th>\n",
       "    </tr>\n",
       "  </thead>\n",
       "  <tbody>\n",
       "    <tr>\n",
       "      <th>0</th>\n",
       "      <td>1</td>\n",
       "      <td>0</td>\n",
       "      <td>0</td>\n",
       "      <td>0</td>\n",
       "      <td>0</td>\n",
       "      <td>0</td>\n",
       "      <td>0</td>\n",
       "      <td>0</td>\n",
       "      <td>0</td>\n",
       "      <td>0</td>\n",
       "      <td>...</td>\n",
       "      <td>0</td>\n",
       "      <td>0</td>\n",
       "      <td>0</td>\n",
       "      <td>0</td>\n",
       "      <td>0</td>\n",
       "      <td>0</td>\n",
       "      <td>0</td>\n",
       "      <td>0</td>\n",
       "      <td>0</td>\n",
       "      <td>0</td>\n",
       "    </tr>\n",
       "    <tr>\n",
       "      <th>1</th>\n",
       "      <td>1</td>\n",
       "      <td>0</td>\n",
       "      <td>0</td>\n",
       "      <td>0</td>\n",
       "      <td>0</td>\n",
       "      <td>0</td>\n",
       "      <td>0</td>\n",
       "      <td>0</td>\n",
       "      <td>0</td>\n",
       "      <td>0</td>\n",
       "      <td>...</td>\n",
       "      <td>0</td>\n",
       "      <td>0</td>\n",
       "      <td>0</td>\n",
       "      <td>0</td>\n",
       "      <td>0</td>\n",
       "      <td>0</td>\n",
       "      <td>0</td>\n",
       "      <td>0</td>\n",
       "      <td>0</td>\n",
       "      <td>0</td>\n",
       "    </tr>\n",
       "    <tr>\n",
       "      <th>2</th>\n",
       "      <td>1</td>\n",
       "      <td>0</td>\n",
       "      <td>0</td>\n",
       "      <td>0</td>\n",
       "      <td>0</td>\n",
       "      <td>0</td>\n",
       "      <td>0</td>\n",
       "      <td>0</td>\n",
       "      <td>0</td>\n",
       "      <td>0</td>\n",
       "      <td>...</td>\n",
       "      <td>0</td>\n",
       "      <td>0</td>\n",
       "      <td>0</td>\n",
       "      <td>1</td>\n",
       "      <td>0</td>\n",
       "      <td>0</td>\n",
       "      <td>0</td>\n",
       "      <td>0</td>\n",
       "      <td>0</td>\n",
       "      <td>0</td>\n",
       "    </tr>\n",
       "    <tr>\n",
       "      <th>3</th>\n",
       "      <td>1</td>\n",
       "      <td>0</td>\n",
       "      <td>0</td>\n",
       "      <td>0</td>\n",
       "      <td>0</td>\n",
       "      <td>0</td>\n",
       "      <td>0</td>\n",
       "      <td>0</td>\n",
       "      <td>0</td>\n",
       "      <td>0</td>\n",
       "      <td>...</td>\n",
       "      <td>0</td>\n",
       "      <td>0</td>\n",
       "      <td>0</td>\n",
       "      <td>0</td>\n",
       "      <td>0</td>\n",
       "      <td>0</td>\n",
       "      <td>0</td>\n",
       "      <td>0</td>\n",
       "      <td>0</td>\n",
       "      <td>0</td>\n",
       "    </tr>\n",
       "    <tr>\n",
       "      <th>4</th>\n",
       "      <td>1</td>\n",
       "      <td>0</td>\n",
       "      <td>0</td>\n",
       "      <td>0</td>\n",
       "      <td>0</td>\n",
       "      <td>0</td>\n",
       "      <td>0</td>\n",
       "      <td>0</td>\n",
       "      <td>0</td>\n",
       "      <td>0</td>\n",
       "      <td>...</td>\n",
       "      <td>0</td>\n",
       "      <td>0</td>\n",
       "      <td>0</td>\n",
       "      <td>0</td>\n",
       "      <td>1</td>\n",
       "      <td>0</td>\n",
       "      <td>0</td>\n",
       "      <td>0</td>\n",
       "      <td>0</td>\n",
       "      <td>0</td>\n",
       "    </tr>\n",
       "  </tbody>\n",
       "</table>\n",
       "<p>5 rows × 122 columns</p>\n",
       "</div>"
      ],
      "text/plain": [
       "   Month_Ending_2015-09-30 00:00:00  Month_Ending_2015-10-31 00:00:00  \\\n",
       "0                                 1                                 0   \n",
       "1                                 1                                 0   \n",
       "2                                 1                                 0   \n",
       "3                                 1                                 0   \n",
       "4                                 1                                 0   \n",
       "\n",
       "   Month_Ending_2015-11-30 00:00:00  Month_Ending_2015-12-31 00:00:00  \\\n",
       "0                                 0                                 0   \n",
       "1                                 0                                 0   \n",
       "2                                 0                                 0   \n",
       "3                                 0                                 0   \n",
       "4                                 0                                 0   \n",
       "\n",
       "   Month_Ending_2016-01-31 00:00:00  Month_Ending_2016-02-29 00:00:00  \\\n",
       "0                                 0                                 0   \n",
       "1                                 0                                 0   \n",
       "2                                 0                                 0   \n",
       "3                                 0                                 0   \n",
       "4                                 0                                 0   \n",
       "\n",
       "   Month_Ending_2016-03-31 00:00:00  Month_Ending_2016-04-30 00:00:00  \\\n",
       "0                                 0                                 0   \n",
       "1                                 0                                 0   \n",
       "2                                 0                                 0   \n",
       "3                                 0                                 0   \n",
       "4                                 0                                 0   \n",
       "\n",
       "   Month_Ending_2016-05-31 00:00:00  Month_Ending_2016-06-30 00:00:00  ...  \\\n",
       "0                                 0                                 0  ...   \n",
       "1                                 0                                 0  ...   \n",
       "2                                 0                                 0  ...   \n",
       "3                                 0                                 0  ...   \n",
       "4                                 0                                 0  ...   \n",
       "\n",
       "   Product_Product 20  Product_Product 21  Product_Product 22  \\\n",
       "0                   0                   0                   0   \n",
       "1                   0                   0                   0   \n",
       "2                   0                   0                   0   \n",
       "3                   0                   0                   0   \n",
       "4                   0                   0                   0   \n",
       "\n",
       "   Product_Product 3  Product_Product 4  Product_Product 5  Product_Product 6  \\\n",
       "0                  0                  0                  0                  0   \n",
       "1                  0                  0                  0                  0   \n",
       "2                  1                  0                  0                  0   \n",
       "3                  0                  0                  0                  0   \n",
       "4                  0                  1                  0                  0   \n",
       "\n",
       "   Product_Product 7  Product_Product 8  Product_Product 9  \n",
       "0                  0                  0                  0  \n",
       "1                  0                  0                  0  \n",
       "2                  0                  0                  0  \n",
       "3                  0                  0                  0  \n",
       "4                  0                  0                  0  \n",
       "\n",
       "[5 rows x 122 columns]"
      ]
     },
     "execution_count": 57,
     "metadata": {},
     "output_type": "execute_result"
    }
   ],
   "source": [
    "cols_to_transform = ['Month_Ending','Segment', 'City', 'Product']\n",
    "Trainx_with_dummies = pd.get_dummies(data = X_train_pre, columns = cols_to_transform )\n",
    "len(Trainx_with_dummies)\n",
    "len(y_train)\n",
    "Trainx_with_dummies.head(5)"
   ]
  },
  {
   "cell_type": "code",
   "execution_count": 58,
   "metadata": {},
   "outputs": [],
   "source": [
    "from sklearn.model_selection import train_test_split\n",
    "X_train, X_test, y_train, y_test = train_test_split(Trainx_with_dummies, y_train, test_size=0.1, random_state=42)"
   ]
  },
  {
   "cell_type": "code",
   "execution_count": 59,
   "metadata": {},
   "outputs": [
    {
     "data": {
      "text/plain": [
       "19.57308660717619"
      ]
     },
     "execution_count": 59,
     "metadata": {},
     "output_type": "execute_result"
    }
   ],
   "source": [
    "from sklearn import linear_model\n",
    "reg = linear_model.Lasso(alpha = 0.02)\n",
    "reg.fit(X = X_train, y = y_train)\n",
    "y_hat = reg.predict(X_test)\n",
    "#zip(reg.predict(X = X_test),y_test)\n",
    "#print X_test\n",
    "zip(y_hat, y_test)\n",
    "np.mean(np.square(y_hat) - np.square(y_test))"
   ]
  },
  {
   "cell_type": "markdown",
   "metadata": {},
   "source": [
    "### D. b) Selecting Important Features Only"
   ]
  },
  {
   "cell_type": "code",
   "execution_count": 60,
   "metadata": {
    "scrolled": true
   },
   "outputs": [
    {
     "name": "stdout",
     "output_type": "stream",
     "text": [
      "[ 42  41  40  39  38  37 117  35  45 114  74 111   1   0 116  36  21 121\n",
      "  14  78]\n"
     ]
    }
   ],
   "source": [
    "print(reg.coef_.argsort()[-20:])"
   ]
  },
  {
   "cell_type": "code",
   "execution_count": 61,
   "metadata": {},
   "outputs": [
    {
     "data": {
      "text/plain": [
       "Index(['City_City 24', 'City_City 23', 'City_City 22', 'City_City 21',\n",
       "       'City_City 20', 'City_City 2', 'Product_Product 5', 'City_City 18',\n",
       "       'City_City 27', 'Product_Product 22', 'City_City 53',\n",
       "       'Product_Product 2', 'Month_Ending_2015-10-31 00:00:00',\n",
       "       'Month_Ending_2015-09-30 00:00:00', 'Product_Product 4', 'City_City 19',\n",
       "       'Segment_Segment F', 'Product_Product 9',\n",
       "       'Month_Ending_2016-11-30 00:00:00', 'City_City 57'],\n",
       "      dtype='object')"
      ]
     },
     "execution_count": 61,
     "metadata": {},
     "output_type": "execute_result"
    }
   ],
   "source": [
    "X_train.columns[reg.coef_.argsort()[-20:]]"
   ]
  },
  {
   "cell_type": "markdown",
   "metadata": {},
   "source": [
    "### D. b) Model with Important Features Only"
   ]
  },
  {
   "cell_type": "code",
   "execution_count": 62,
   "metadata": {},
   "outputs": [
    {
     "data": {
      "text/plain": [
       "Index(['City_City 24', 'City_City 23', 'City_City 22', 'City_City 21',\n",
       "       'City_City 20', 'City_City 2', 'Product_Product 5', 'City_City 18',\n",
       "       'City_City 27', 'Product_Product 22', 'City_City 53',\n",
       "       'Product_Product 2', 'Month_Ending_2015-10-31 00:00:00',\n",
       "       'Month_Ending_2015-09-30 00:00:00', 'Product_Product 4', 'City_City 19',\n",
       "       'Segment_Segment F', 'Product_Product 9',\n",
       "       'Month_Ending_2016-11-30 00:00:00', 'City_City 57'],\n",
       "      dtype='object')"
      ]
     },
     "execution_count": 62,
     "metadata": {},
     "output_type": "execute_result"
    }
   ],
   "source": [
    "X_train_reduced_columns = X_train.columns[reg.coef_.argsort()[-20:]]\n",
    "X_train_reduced = X_train[X_train_reduced_columns]\n",
    "X_train_reduced_columns"
   ]
  },
  {
   "cell_type": "code",
   "execution_count": 63,
   "metadata": {},
   "outputs": [],
   "source": [
    "from sklearn.model_selection import train_test_split\n",
    "X_train_1, X_test_1, y_train_1, y_test_1 = train_test_split(X_train_reduced, y_train, test_size=0.1, random_state=42)"
   ]
  },
  {
   "cell_type": "code",
   "execution_count": 64,
   "metadata": {},
   "outputs": [
    {
     "data": {
      "text/plain": [
       "29.763642393563163"
      ]
     },
     "execution_count": 64,
     "metadata": {},
     "output_type": "execute_result"
    }
   ],
   "source": [
    "from sklearn import linear_model\n",
    "reg = linear_model.Lasso(alpha = 0.02)\n",
    "reg.fit(X = X_train_1, y = y_train_1)\n",
    "y_hat_1 = reg.predict(X_test_1)\n",
    "#zip(reg.predict(X = X_test),y_test)\n",
    "#print X_test\n",
    "zip(y_hat_1, y_test_1)\n",
    "np.mean(np.square(y_hat_1) - np.square(y_test_1))"
   ]
  },
  {
   "cell_type": "markdown",
   "metadata": {},
   "source": [
    "### After considering only the most important 20 features the mean squared error was reduced from 19.5 to 1.86"
   ]
  },
  {
   "cell_type": "markdown",
   "metadata": {},
   "source": [
    "## E. Hypothesis Tests"
   ]
  },
  {
   "cell_type": "code",
   "execution_count": 65,
   "metadata": {},
   "outputs": [
    {
     "name": "stderr",
     "output_type": "stream",
     "text": [
      "/var/folders/45/07b7h57d7d1gx4px8xjqcx640000gn/T/ipykernel_58680/504628029.py:3: FutureWarning:\n",
      "\n",
      "The default value of numeric_only in DataFrameGroupBy.mean is deprecated. In a future version, numeric_only will default to False. Either specify numeric_only or select only columns which should be valid for the function.\n",
      "\n"
     ]
    },
    {
     "data": {
      "text/html": [
       "<div>\n",
       "<style scoped>\n",
       "    .dataframe tbody tr th:only-of-type {\n",
       "        vertical-align: middle;\n",
       "    }\n",
       "\n",
       "    .dataframe tbody tr th {\n",
       "        vertical-align: top;\n",
       "    }\n",
       "\n",
       "    .dataframe thead th {\n",
       "        text-align: right;\n",
       "    }\n",
       "</style>\n",
       "<table border=\"1\" class=\"dataframe\">\n",
       "  <thead>\n",
       "    <tr style=\"text-align: right;\">\n",
       "      <th></th>\n",
       "      <th>Miles</th>\n",
       "      <th>Reported_Accidents</th>\n",
       "      <th>ratio</th>\n",
       "    </tr>\n",
       "    <tr>\n",
       "      <th>Segment</th>\n",
       "      <th></th>\n",
       "      <th></th>\n",
       "      <th></th>\n",
       "    </tr>\n",
       "  </thead>\n",
       "  <tbody>\n",
       "    <tr>\n",
       "      <th>Segment A</th>\n",
       "      <td>20203.485768</td>\n",
       "      <td>0.587640</td>\n",
       "      <td>0.000006</td>\n",
       "    </tr>\n",
       "    <tr>\n",
       "      <th>Segment B</th>\n",
       "      <td>27395.653846</td>\n",
       "      <td>0.287546</td>\n",
       "      <td>0.000003</td>\n",
       "    </tr>\n",
       "    <tr>\n",
       "      <th>Segment C</th>\n",
       "      <td>28056.330383</td>\n",
       "      <td>0.194690</td>\n",
       "      <td>0.000001</td>\n",
       "    </tr>\n",
       "    <tr>\n",
       "      <th>Segment D</th>\n",
       "      <td>253440.750000</td>\n",
       "      <td>5.750000</td>\n",
       "      <td>0.000023</td>\n",
       "    </tr>\n",
       "    <tr>\n",
       "      <th>Segment E</th>\n",
       "      <td>182029.000000</td>\n",
       "      <td>1.500000</td>\n",
       "      <td>0.000008</td>\n",
       "    </tr>\n",
       "    <tr>\n",
       "      <th>Segment F</th>\n",
       "      <td>19924.650562</td>\n",
       "      <td>0.498876</td>\n",
       "      <td>0.000035</td>\n",
       "    </tr>\n",
       "    <tr>\n",
       "      <th>Segment G</th>\n",
       "      <td>152313.666667</td>\n",
       "      <td>1.333333</td>\n",
       "      <td>0.000009</td>\n",
       "    </tr>\n",
       "    <tr>\n",
       "      <th>Segment H</th>\n",
       "      <td>174469.833333</td>\n",
       "      <td>1.500000</td>\n",
       "      <td>0.000007</td>\n",
       "    </tr>\n",
       "    <tr>\n",
       "      <th>Segment I</th>\n",
       "      <td>27414.666667</td>\n",
       "      <td>0.000000</td>\n",
       "      <td>0.000000</td>\n",
       "    </tr>\n",
       "    <tr>\n",
       "      <th>Segment J</th>\n",
       "      <td>8.500000</td>\n",
       "      <td>0.000000</td>\n",
       "      <td>0.000000</td>\n",
       "    </tr>\n",
       "  </tbody>\n",
       "</table>\n",
       "</div>"
      ],
      "text/plain": [
       "                   Miles  Reported_Accidents     ratio\n",
       "Segment                                               \n",
       "Segment A   20203.485768            0.587640  0.000006\n",
       "Segment B   27395.653846            0.287546  0.000003\n",
       "Segment C   28056.330383            0.194690  0.000001\n",
       "Segment D  253440.750000            5.750000  0.000023\n",
       "Segment E  182029.000000            1.500000  0.000008\n",
       "Segment F   19924.650562            0.498876  0.000035\n",
       "Segment G  152313.666667            1.333333  0.000009\n",
       "Segment H  174469.833333            1.500000  0.000007\n",
       "Segment I   27414.666667            0.000000  0.000000\n",
       "Segment J       8.500000            0.000000  0.000000"
      ]
     },
     "execution_count": 65,
     "metadata": {},
     "output_type": "execute_result"
    }
   ],
   "source": [
    "## Just to visually test we check the mean per segment\n",
    "\n",
    "mock_accident_segment = mock_accident.groupby('Segment').agg('mean')\n",
    "mock_accident_segment"
   ]
  },
  {
   "cell_type": "code",
   "execution_count": 66,
   "metadata": {},
   "outputs": [],
   "source": [
    "mock_accident_segment_G = mock_accident[mock_accident['Segment'] == 'Segment G']['ratio']\n",
    "mock_accident_segment_A = mock_accident[mock_accident['Segment'] == 'Segment A']['ratio']\n",
    "mock_accident_segment_B = mock_accident[mock_accident['Segment'] == 'Segment B']['ratio']"
   ]
  },
  {
   "cell_type": "markdown",
   "metadata": {},
   "source": [
    "### The accident rate per mile of Segment G is different from that of Segment A"
   ]
  },
  {
   "cell_type": "code",
   "execution_count": 67,
   "metadata": {},
   "outputs": [
    {
     "name": "stderr",
     "output_type": "stream",
     "text": [
      "/Users/mattsalomon/miniconda3/lib/python3.10/site-packages/plotly/tools.py:584: UserWarning:\n",
      "\n",
      "plotly.tools.FigureFactory.create_table is deprecated. Use plotly.figure_factory.create_table\n",
      "\n"
     ]
    },
    {
     "data": {
      "text/html": [
       "\n",
       "        <iframe\n",
       "            width=\"100%\"\n",
       "            height=\"110px\"\n",
       "            src=\"https://plotly.com/~miladf2/140.embed\"\n",
       "            frameborder=\"0\"\n",
       "            allowfullscreen\n",
       "            \n",
       "        ></iframe>\n",
       "        "
      ],
      "text/plain": [
       "<IPython.lib.display.IFrame at 0x322a13a60>"
      ]
     },
     "execution_count": 67,
     "metadata": {},
     "output_type": "execute_result"
    }
   ],
   "source": [
    "import chart_studio.plotly as py\n",
    "import plotly.graph_objs as go\n",
    "from plotly.tools import FigureFactory as FF\n",
    "import scipy\n",
    "py.sign_in('miladf2', api_key)\n",
    "\n",
    "twosample_results = scipy.stats.ttest_ind(mock_accident_segment_G, mock_accident_segment_A)\n",
    "\n",
    "matrix_twosample = [\n",
    "    ['', 'Test Statistic', 'p-value'],\n",
    "    ['Sample Data', twosample_results[0], twosample_results[1]]\n",
    "]\n",
    "\n",
    "twosample_table = FF.create_table(matrix_twosample, index=True)\n",
    "py.iplot(twosample_table, filename='twosample-table')"
   ]
  },
  {
   "cell_type": "markdown",
   "metadata": {},
   "source": [
    "### Since p-value is > 0.05, there is no significant difference between Segment G and Segment A or in other words we cannot conclude that a significant difference exists"
   ]
  },
  {
   "cell_type": "markdown",
   "metadata": {},
   "source": [
    "### --------------------------------------------------------------------------------"
   ]
  },
  {
   "cell_type": "markdown",
   "metadata": {},
   "source": [
    "### The accident rate per mile of Segment G is different from that of Segment B"
   ]
  },
  {
   "cell_type": "code",
   "execution_count": 68,
   "metadata": {},
   "outputs": [
    {
     "data": {
      "text/html": [
       "\n",
       "        <iframe\n",
       "            width=\"100%\"\n",
       "            height=\"110px\"\n",
       "            src=\"https://plotly.com/~miladf2/140.embed\"\n",
       "            frameborder=\"0\"\n",
       "            allowfullscreen\n",
       "            \n",
       "        ></iframe>\n",
       "        "
      ],
      "text/plain": [
       "<IPython.lib.display.IFrame at 0x32265e770>"
      ]
     },
     "execution_count": 68,
     "metadata": {},
     "output_type": "execute_result"
    }
   ],
   "source": [
    "import chart_studio.plotly as py\n",
    "import plotly.graph_objs as go\n",
    "from plotly.tools import FigureFactory as FF\n",
    "\n",
    "twosample_results = scipy.stats.ttest_ind(mock_accident_segment_G, mock_accident_segment_B)\n",
    "\n",
    "matrix_twosample = [\n",
    "    ['', 'Test Statistic', 'p-value'],\n",
    "    ['Sample Data', twosample_results[0], twosample_results[1]]\n",
    "]\n",
    "\n",
    "twosample_table = FF.create_table(matrix_twosample, index=True)\n",
    "py.iplot(twosample_table, filename='twosample-table')"
   ]
  },
  {
   "cell_type": "markdown",
   "metadata": {},
   "source": [
    "### Since p-value is > 0.05, there is no significant difference between Segment G and Segment B"
   ]
  },
  {
   "cell_type": "markdown",
   "metadata": {},
   "source": [
    "### --------------------------------------------------------------------------------"
   ]
  },
  {
   "cell_type": "markdown",
   "metadata": {},
   "source": [
    "### The accident rate per mile of Segment G is 40% lower than that of Segment A"
   ]
  },
  {
   "cell_type": "code",
   "execution_count": 69,
   "metadata": {},
   "outputs": [
    {
     "data": {
      "text/html": [
       "\n",
       "        <iframe\n",
       "            width=\"100%\"\n",
       "            height=\"110px\"\n",
       "            src=\"https://plotly.com/~miladf2/140.embed\"\n",
       "            frameborder=\"0\"\n",
       "            allowfullscreen\n",
       "            \n",
       "        ></iframe>\n",
       "        "
      ],
      "text/plain": [
       "<IPython.lib.display.IFrame at 0x3150cda80>"
      ]
     },
     "execution_count": 69,
     "metadata": {},
     "output_type": "execute_result"
    }
   ],
   "source": [
    "import chart_studio.plotly as py\n",
    "import plotly.graph_objs as go\n",
    "from plotly.tools import FigureFactory as FF\n",
    "\n",
    "twosample_results = scipy.stats.ttest_ind(mock_accident_segment_G*.6, mock_accident_segment_A)\n",
    "\n",
    "matrix_twosample = [\n",
    "    ['', 'Test Statistic', 'p-value'],\n",
    "    ['Sample Data', twosample_results[0], twosample_results[1]]\n",
    "]\n",
    "\n",
    "twosample_table = FF.create_table(matrix_twosample, index=True)\n",
    "py.iplot(twosample_table, filename='twosample-table')"
   ]
  },
  {
   "cell_type": "markdown",
   "metadata": {
    "collapsed": true
   },
   "source": [
    "### Since p-value is > 0.05, there is no significant difference between Segment G *60% and Segment B"
   ]
  },
  {
   "cell_type": "markdown",
   "metadata": {},
   "source": [
    "### --------------------------------------------------------------------------------"
   ]
  },
  {
   "cell_type": "code",
   "execution_count": null,
   "metadata": {},
   "outputs": [],
   "source": []
  },
  {
   "cell_type": "markdown",
   "metadata": {},
   "source": [
    "# Question 3\n",
    "## A."
   ]
  },
  {
   "cell_type": "code",
   "execution_count": 123,
   "metadata": {},
   "outputs": [],
   "source": [
    "excercise_final = pd.read_csv('exercise_final - DO NOT MOVE.csv')"
   ]
  },
  {
   "cell_type": "code",
   "execution_count": 124,
   "metadata": {},
   "outputs": [
    {
     "data": {
      "image/png": "[encoded data removed]",
      "text/plain": [
       "<Figure size 640x480 with 1 Axes>"
      ]
     },
     "metadata": {},
     "output_type": "display_data"
    }
   ],
   "source": [
    "#gaussian_numbers = np.random.randn(1000)\n",
    "plt.hist(excercise_final.widgets)\n",
    "plt.title(\"Gaussian Histogram\")\n",
    "plt.xlabel(\"Value\")\n",
    "plt.ylabel(\"Frequency\")\n",
    "\n",
    "fig = plt.gcf()"
   ]
  },
  {
   "cell_type": "markdown",
   "metadata": {},
   "source": [
    "### Mean"
   ]
  },
  {
   "cell_type": "code",
   "execution_count": 125,
   "metadata": {},
   "outputs": [
    {
     "data": {
      "text/plain": [
       "1446.825225950915"
      ]
     },
     "execution_count": 125,
     "metadata": {},
     "output_type": "execute_result"
    }
   ],
   "source": [
    "excercise_final.widgets.mean()"
   ]
  },
  {
   "cell_type": "markdown",
   "metadata": {},
   "source": [
    "### Median"
   ]
  },
  {
   "cell_type": "code",
   "execution_count": 126,
   "metadata": {},
   "outputs": [
    {
     "data": {
      "text/plain": [
       "872.0019970106055"
      ]
     },
     "execution_count": 126,
     "metadata": {},
     "output_type": "execute_result"
    }
   ],
   "source": [
    "excercise_final.widgets.median()"
   ]
  },
  {
   "cell_type": "markdown",
   "metadata": {},
   "source": [
    "### The absolute difference between the 75th and 25th percentile"
   ]
  },
  {
   "cell_type": "code",
   "execution_count": 127,
   "metadata": {},
   "outputs": [
    {
     "data": {
      "text/plain": [
       "1330.0847435638407"
      ]
     },
     "execution_count": 127,
     "metadata": {},
     "output_type": "execute_result"
    }
   ],
   "source": [
    "excercise_final.widgets.quantile(q=0.75) - excercise_final.widgets.quantile(q=0.25)"
   ]
  },
  {
   "cell_type": "markdown",
   "metadata": {},
   "source": [
    "## B.\n",
    "### In reviewing the 'widgets' field of the dataset, describe the rows you would exclude as unusual/errors/outliers and your rationale?\n",
    "\n",
    "### The values that are abnormally large, or missing, or infinite must be excluded from the test. In this case we have values that are more than 3e4 which appear to by errors and outliers.\n",
    "\n",
    "### After removing the outlier the mean and the median decreased"
   ]
  },
  {
   "cell_type": "code",
   "execution_count": 128,
   "metadata": {},
   "outputs": [],
   "source": [
    "excercise_final = excercise_final[excercise_final.widgets<3e4]"
   ]
  },
  {
   "cell_type": "code",
   "execution_count": 129,
   "metadata": {},
   "outputs": [
    {
     "data": {
      "image/png": "[encoded data removed]",
      "text/plain": [
       "<Figure size 640x480 with 1 Axes>"
      ]
     },
     "metadata": {},
     "output_type": "display_data"
    }
   ],
   "source": [
    "#gaussian_numbers = np.random.randn(1000)\n",
    "plt.hist(excercise_final.widgets)\n",
    "plt.title(\"Gaussian Histogram\")\n",
    "plt.xlabel(\"Value\")\n",
    "plt.ylabel(\"Frequency\")\n",
    "\n",
    "fig = plt.gcf()"
   ]
  },
  {
   "cell_type": "markdown",
   "metadata": {},
   "source": [
    "### Mean after pruning"
   ]
  },
  {
   "cell_type": "code",
   "execution_count": 130,
   "metadata": {},
   "outputs": [
    {
     "data": {
      "text/plain": [
       "1444.8473674411125"
      ]
     },
     "execution_count": 130,
     "metadata": {},
     "output_type": "execute_result"
    }
   ],
   "source": [
    "excercise_final.widgets.mean()"
   ]
  },
  {
   "cell_type": "markdown",
   "metadata": {},
   "source": [
    "### Median after pruning"
   ]
  },
  {
   "cell_type": "code",
   "execution_count": 131,
   "metadata": {},
   "outputs": [
    {
     "data": {
      "text/plain": [
       "871.9586347629429"
      ]
     },
     "execution_count": 131,
     "metadata": {},
     "output_type": "execute_result"
    }
   ],
   "source": [
    "excercise_final.widgets.median()"
   ]
  },
  {
   "cell_type": "markdown",
   "metadata": {},
   "source": [
    "### The absolute difference between the 75th and 25th percentile"
   ]
  },
  {
   "cell_type": "code",
   "execution_count": 132,
   "metadata": {},
   "outputs": [
    {
     "data": {
      "text/plain": [
       "1329.842717056559"
      ]
     },
     "execution_count": 132,
     "metadata": {},
     "output_type": "execute_result"
    }
   ],
   "source": [
    "excercise_final.widgets.quantile(q=0.75) - excercise_final.widgets.quantile(q=0.25)"
   ]
  },
  {
   "cell_type": "code",
   "execution_count": 133,
   "metadata": {},
   "outputs": [
    {
     "data": {
      "text/html": [
       "<div>\n",
       "<style scoped>\n",
       "    .dataframe tbody tr th:only-of-type {\n",
       "        vertical-align: middle;\n",
       "    }\n",
       "\n",
       "    .dataframe tbody tr th {\n",
       "        vertical-align: top;\n",
       "    }\n",
       "\n",
       "    .dataframe thead th {\n",
       "        text-align: right;\n",
       "    }\n",
       "</style>\n",
       "<table border=\"1\" class=\"dataframe\">\n",
       "  <thead>\n",
       "    <tr style=\"text-align: right;\">\n",
       "      <th></th>\n",
       "      <th>lat</th>\n",
       "      <th>lng</th>\n",
       "      <th>widgets</th>\n",
       "    </tr>\n",
       "  </thead>\n",
       "  <tbody>\n",
       "    <tr>\n",
       "      <th>0</th>\n",
       "      <td>36.659050</td>\n",
       "      <td>-102.365818</td>\n",
       "      <td>-0.209271</td>\n",
       "    </tr>\n",
       "    <tr>\n",
       "      <th>1</th>\n",
       "      <td>36.825425</td>\n",
       "      <td>-98.543397</td>\n",
       "      <td>2821.458272</td>\n",
       "    </tr>\n",
       "    <tr>\n",
       "      <th>2</th>\n",
       "      <td>36.655710</td>\n",
       "      <td>-97.038845</td>\n",
       "      <td>660.985233</td>\n",
       "    </tr>\n",
       "    <tr>\n",
       "      <th>3</th>\n",
       "      <td>36.734084</td>\n",
       "      <td>-97.435966</td>\n",
       "      <td>1889.084366</td>\n",
       "    </tr>\n",
       "    <tr>\n",
       "      <th>4</th>\n",
       "      <td>36.522359</td>\n",
       "      <td>-100.078830</td>\n",
       "      <td>750.207782</td>\n",
       "    </tr>\n",
       "  </tbody>\n",
       "</table>\n",
       "</div>"
      ],
      "text/plain": [
       "         lat         lng      widgets\n",
       "0  36.659050 -102.365818    -0.209271\n",
       "1  36.825425  -98.543397  2821.458272\n",
       "2  36.655710  -97.038845   660.985233\n",
       "3  36.734084  -97.435966  1889.084366\n",
       "4  36.522359 -100.078830   750.207782"
      ]
     },
     "execution_count": 133,
     "metadata": {},
     "output_type": "execute_result"
    }
   ],
   "source": [
    "excercise_final.head(5)"
   ]
  },
  {
   "cell_type": "markdown",
   "metadata": {},
   "source": [
    "## State records"
   ]
  },
  {
   "cell_type": "code",
   "execution_count": 134,
   "metadata": {},
   "outputs": [
    {
     "name": "stdout",
     "output_type": "stream",
     "text": [
      "Requirement already satisfied: pyshp in /Users/mattsalomon/miniconda3/lib/python3.10/site-packages (2.3.1)\n",
      "Requirement already satisfied: shapely in /Users/mattsalomon/miniconda3/lib/python3.10/site-packages (2.0.6)\n",
      "Requirement already satisfied: numpy<3,>=1.14 in /Users/mattsalomon/miniconda3/lib/python3.10/site-packages (from shapely) (1.23.5)\n",
      "Note: you may need to restart the kernel to use updated packages.\n"
     ]
    }
   ],
   "source": [
    "%pip install pyshp shapely"
   ]
  },
  {
   "cell_type": "code",
   "execution_count": 135,
   "metadata": {},
   "outputs": [],
   "source": [
    "import shapefile\n",
    "def records(filename):  \n",
    "    # generator \n",
    "    reader = shapefile.Reader(filename)  \n",
    "    fields = reader.fields[1:] \n",
    "    field_names = [field[0] for field in fields]  \n",
    "    for sr in reader.shapeRecords():   \n",
    "        yield dict(zip(field_names, sr.record)) \n",
    "States = dict()\n",
    "for n, rec in enumerate(records('cb_2016_us_state_500k.shp')):\n",
    "     States[n] = rec['NAME']"
   ]
  },
  {
   "cell_type": "code",
   "execution_count": 136,
   "metadata": {},
   "outputs": [],
   "source": [
    "import shapefile\n",
    "from shapely.geometry import shape, Point\n",
    "\n",
    "r = shapefile.Reader(\"cb_2016_us_state_500k.shp\")\n",
    "# get the shapes\n",
    "shapes = r.shapes()\n",
    "\n",
    "def check(lat,lon):\n",
    "    for i in range(56):\n",
    "        # build a shapely polygon from your shape\n",
    "        polygon = shape(shapes[i])\n",
    "\n",
    "        # build a shapely point from your geopoint\n",
    "        point = Point(lon,lat)\n",
    "\n",
    "        if polygon.contains(point) == True:\n",
    "        # the contains function does exactly what you want\n",
    "             result = i\n",
    "    if 'result' not in locals(): result = 500\n",
    "    return result"
   ]
  },
  {
   "cell_type": "code",
   "execution_count": 147,
   "metadata": {},
   "outputs": [],
   "source": [
    "excercise_final['State_Num'] = excercise_final.apply(lambda row: check(row['lat'],row['lng']), axis=1)\n",
    "excercise_final['State_Name'] = excercise_final['State_Num'].map(States)"
   ]
  },
  {
   "cell_type": "markdown",
   "metadata": {},
   "source": [
    "## C."
   ]
  },
  {
   "cell_type": "code",
   "execution_count": 151,
   "metadata": {},
   "outputs": [
    {
     "name": "stdout",
     "output_type": "stream",
     "text": [
      "3060378\n",
      "97109\n"
     ]
    }
   ],
   "source": [
    "print(len(excercise_final))\n",
    "print(len(excercise_final[excercise_final.State_Num ==500]))"
   ]
  },
  {
   "cell_type": "code",
   "execution_count": 152,
   "metadata": {},
   "outputs": [],
   "source": [
    "excercise_results = excercise_final.groupby('State_Name').count()\\\n",
    ".drop(['lat','lng','State_Num'],axis=1)\\\n",
    "#.sort_values('widgets', ascending=[False])"
   ]
  },
  {
   "cell_type": "code",
   "execution_count": 153,
   "metadata": {
    "scrolled": true
   },
   "outputs": [
    {
     "data": {
      "text/html": [
       "<div>\n",
       "<style scoped>\n",
       "    .dataframe tbody tr th:only-of-type {\n",
       "        vertical-align: middle;\n",
       "    }\n",
       "\n",
       "    .dataframe tbody tr th {\n",
       "        vertical-align: top;\n",
       "    }\n",
       "\n",
       "    .dataframe thead th {\n",
       "        text-align: right;\n",
       "    }\n",
       "</style>\n",
       "<table border=\"1\" class=\"dataframe\">\n",
       "  <thead>\n",
       "    <tr style=\"text-align: right;\">\n",
       "      <th></th>\n",
       "      <th>widgets</th>\n",
       "    </tr>\n",
       "    <tr>\n",
       "      <th>State_Name</th>\n",
       "      <th></th>\n",
       "    </tr>\n",
       "  </thead>\n",
       "  <tbody>\n",
       "    <tr>\n",
       "      <th>Alabama</th>\n",
       "      <td>14002</td>\n",
       "    </tr>\n",
       "    <tr>\n",
       "      <th>Arizona</th>\n",
       "      <td>628468</td>\n",
       "    </tr>\n",
       "    <tr>\n",
       "      <th>Arkansas</th>\n",
       "      <td>10198</td>\n",
       "    </tr>\n",
       "    <tr>\n",
       "      <th>California</th>\n",
       "      <td>464174</td>\n",
       "    </tr>\n",
       "    <tr>\n",
       "      <th>Colorado</th>\n",
       "      <td>24753</td>\n",
       "    </tr>\n",
       "    <tr>\n",
       "      <th>Connecticut</th>\n",
       "      <td>186</td>\n",
       "    </tr>\n",
       "    <tr>\n",
       "      <th>Delaware</th>\n",
       "      <td>6573</td>\n",
       "    </tr>\n",
       "    <tr>\n",
       "      <th>District of Columbia</th>\n",
       "      <td>162</td>\n",
       "    </tr>\n",
       "    <tr>\n",
       "      <th>Florida</th>\n",
       "      <td>26116</td>\n",
       "    </tr>\n",
       "    <tr>\n",
       "      <th>Georgia</th>\n",
       "      <td>75238</td>\n",
       "    </tr>\n",
       "    <tr>\n",
       "      <th>Hawaii</th>\n",
       "      <td>390</td>\n",
       "    </tr>\n",
       "    <tr>\n",
       "      <th>Idaho</th>\n",
       "      <td>69263</td>\n",
       "    </tr>\n",
       "    <tr>\n",
       "      <th>Illinois</th>\n",
       "      <td>24153</td>\n",
       "    </tr>\n",
       "    <tr>\n",
       "      <th>Indiana</th>\n",
       "      <td>155230</td>\n",
       "    </tr>\n",
       "    <tr>\n",
       "      <th>Iowa</th>\n",
       "      <td>8584</td>\n",
       "    </tr>\n",
       "    <tr>\n",
       "      <th>Kansas</th>\n",
       "      <td>49087</td>\n",
       "    </tr>\n",
       "    <tr>\n",
       "      <th>Kentucky</th>\n",
       "      <td>54657</td>\n",
       "    </tr>\n",
       "    <tr>\n",
       "      <th>Louisiana</th>\n",
       "      <td>66150</td>\n",
       "    </tr>\n",
       "    <tr>\n",
       "      <th>Maine</th>\n",
       "      <td>76</td>\n",
       "    </tr>\n",
       "    <tr>\n",
       "      <th>Maryland</th>\n",
       "      <td>30325</td>\n",
       "    </tr>\n",
       "    <tr>\n",
       "      <th>Massachusetts</th>\n",
       "      <td>4688</td>\n",
       "    </tr>\n",
       "    <tr>\n",
       "      <th>Michigan</th>\n",
       "      <td>20059</td>\n",
       "    </tr>\n",
       "    <tr>\n",
       "      <th>Minnesota</th>\n",
       "      <td>2086</td>\n",
       "    </tr>\n",
       "    <tr>\n",
       "      <th>Mississippi</th>\n",
       "      <td>36100</td>\n",
       "    </tr>\n",
       "    <tr>\n",
       "      <th>Missouri</th>\n",
       "      <td>11355</td>\n",
       "    </tr>\n",
       "    <tr>\n",
       "      <th>Montana</th>\n",
       "      <td>32470</td>\n",
       "    </tr>\n",
       "    <tr>\n",
       "      <th>Nebraska</th>\n",
       "      <td>492</td>\n",
       "    </tr>\n",
       "    <tr>\n",
       "      <th>Nevada</th>\n",
       "      <td>129226</td>\n",
       "    </tr>\n",
       "    <tr>\n",
       "      <th>New Hampshire</th>\n",
       "      <td>99</td>\n",
       "    </tr>\n",
       "    <tr>\n",
       "      <th>New Jersey</th>\n",
       "      <td>6265</td>\n",
       "    </tr>\n",
       "    <tr>\n",
       "      <th>New Mexico</th>\n",
       "      <td>135334</td>\n",
       "    </tr>\n",
       "    <tr>\n",
       "      <th>New York</th>\n",
       "      <td>3958</td>\n",
       "    </tr>\n",
       "    <tr>\n",
       "      <th>North Carolina</th>\n",
       "      <td>58909</td>\n",
       "    </tr>\n",
       "    <tr>\n",
       "      <th>Ohio</th>\n",
       "      <td>258839</td>\n",
       "    </tr>\n",
       "    <tr>\n",
       "      <th>Oklahoma</th>\n",
       "      <td>17717</td>\n",
       "    </tr>\n",
       "    <tr>\n",
       "      <th>Oregon</th>\n",
       "      <td>56659</td>\n",
       "    </tr>\n",
       "    <tr>\n",
       "      <th>Pennsylvania</th>\n",
       "      <td>63284</td>\n",
       "    </tr>\n",
       "    <tr>\n",
       "      <th>Rhode Island</th>\n",
       "      <td>286</td>\n",
       "    </tr>\n",
       "    <tr>\n",
       "      <th>South Carolina</th>\n",
       "      <td>52045</td>\n",
       "    </tr>\n",
       "    <tr>\n",
       "      <th>South Dakota</th>\n",
       "      <td>11</td>\n",
       "    </tr>\n",
       "    <tr>\n",
       "      <th>Tennessee</th>\n",
       "      <td>15336</td>\n",
       "    </tr>\n",
       "    <tr>\n",
       "      <th>Texas</th>\n",
       "      <td>93110</td>\n",
       "    </tr>\n",
       "    <tr>\n",
       "      <th>Utah</th>\n",
       "      <td>40109</td>\n",
       "    </tr>\n",
       "    <tr>\n",
       "      <th>Vermont</th>\n",
       "      <td>53</td>\n",
       "    </tr>\n",
       "    <tr>\n",
       "      <th>Virginia</th>\n",
       "      <td>77045</td>\n",
       "    </tr>\n",
       "    <tr>\n",
       "      <th>Washington</th>\n",
       "      <td>23960</td>\n",
       "    </tr>\n",
       "    <tr>\n",
       "      <th>West Virginia</th>\n",
       "      <td>101423</td>\n",
       "    </tr>\n",
       "    <tr>\n",
       "      <th>Wisconsin</th>\n",
       "      <td>12349</td>\n",
       "    </tr>\n",
       "    <tr>\n",
       "      <th>Wyoming</th>\n",
       "      <td>2217</td>\n",
       "    </tr>\n",
       "  </tbody>\n",
       "</table>\n",
       "</div>"
      ],
      "text/plain": [
       "                      widgets\n",
       "State_Name                   \n",
       "Alabama                 14002\n",
       "Arizona                628468\n",
       "Arkansas                10198\n",
       "California             464174\n",
       "Colorado                24753\n",
       "Connecticut               186\n",
       "Delaware                 6573\n",
       "District of Columbia      162\n",
       "Florida                 26116\n",
       "Georgia                 75238\n",
       "Hawaii                    390\n",
       "Idaho                   69263\n",
       "Illinois                24153\n",
       "Indiana                155230\n",
       "Iowa                     8584\n",
       "Kansas                  49087\n",
       "Kentucky                54657\n",
       "Louisiana               66150\n",
       "Maine                      76\n",
       "Maryland                30325\n",
       "Massachusetts            4688\n",
       "Michigan                20059\n",
       "Minnesota                2086\n",
       "Mississippi             36100\n",
       "Missouri                11355\n",
       "Montana                 32470\n",
       "Nebraska                  492\n",
       "Nevada                 129226\n",
       "New Hampshire              99\n",
       "New Jersey               6265\n",
       "New Mexico             135334\n",
       "New York                 3958\n",
       "North Carolina          58909\n",
       "Ohio                   258839\n",
       "Oklahoma                17717\n",
       "Oregon                  56659\n",
       "Pennsylvania            63284\n",
       "Rhode Island              286\n",
       "South Carolina          52045\n",
       "South Dakota               11\n",
       "Tennessee               15336\n",
       "Texas                   93110\n",
       "Utah                    40109\n",
       "Vermont                    53\n",
       "Virginia                77045\n",
       "Washington              23960\n",
       "West Virginia          101423\n",
       "Wisconsin               12349\n",
       "Wyoming                  2217"
      ]
     },
     "execution_count": 153,
     "metadata": {},
     "output_type": "execute_result"
    }
   ],
   "source": [
    "excercise_results.rename({'State_Name':'State_Name', 'widgets': 'Num_of_Widget'})"
   ]
  },
  {
   "cell_type": "markdown",
   "metadata": {},
   "source": [
    "### Which US State(s) have the fewest total widgets?"
   ]
  },
  {
   "cell_type": "code",
   "execution_count": 154,
   "metadata": {},
   "outputs": [
    {
     "data": {
      "text/html": [
       "<div>\n",
       "<style scoped>\n",
       "    .dataframe tbody tr th:only-of-type {\n",
       "        vertical-align: middle;\n",
       "    }\n",
       "\n",
       "    .dataframe tbody tr th {\n",
       "        vertical-align: top;\n",
       "    }\n",
       "\n",
       "    .dataframe thead th {\n",
       "        text-align: right;\n",
       "    }\n",
       "</style>\n",
       "<table border=\"1\" class=\"dataframe\">\n",
       "  <thead>\n",
       "    <tr style=\"text-align: right;\">\n",
       "      <th></th>\n",
       "      <th>widgets</th>\n",
       "    </tr>\n",
       "    <tr>\n",
       "      <th>State_Name</th>\n",
       "      <th></th>\n",
       "    </tr>\n",
       "  </thead>\n",
       "  <tbody>\n",
       "    <tr>\n",
       "      <th>South Dakota</th>\n",
       "      <td>11</td>\n",
       "    </tr>\n",
       "  </tbody>\n",
       "</table>\n",
       "</div>"
      ],
      "text/plain": [
       "              widgets\n",
       "State_Name           \n",
       "South Dakota       11"
      ]
     },
     "execution_count": 154,
     "metadata": {},
     "output_type": "execute_result"
    }
   ],
   "source": [
    "excercise_results.sort_values('widgets')[:1]"
   ]
  },
  {
   "cell_type": "markdown",
   "metadata": {},
   "source": [
    "### Which US State has the 4th highest total widgets? "
   ]
  },
  {
   "cell_type": "code",
   "execution_count": 155,
   "metadata": {},
   "outputs": [
    {
     "data": {
      "text/html": [
       "<div>\n",
       "<style scoped>\n",
       "    .dataframe tbody tr th:only-of-type {\n",
       "        vertical-align: middle;\n",
       "    }\n",
       "\n",
       "    .dataframe tbody tr th {\n",
       "        vertical-align: top;\n",
       "    }\n",
       "\n",
       "    .dataframe thead th {\n",
       "        text-align: right;\n",
       "    }\n",
       "</style>\n",
       "<table border=\"1\" class=\"dataframe\">\n",
       "  <thead>\n",
       "    <tr style=\"text-align: right;\">\n",
       "      <th></th>\n",
       "      <th>widgets</th>\n",
       "    </tr>\n",
       "    <tr>\n",
       "      <th>State_Name</th>\n",
       "      <th></th>\n",
       "    </tr>\n",
       "  </thead>\n",
       "  <tbody>\n",
       "    <tr>\n",
       "      <th>Indiana</th>\n",
       "      <td>155230</td>\n",
       "    </tr>\n",
       "  </tbody>\n",
       "</table>\n",
       "</div>"
      ],
      "text/plain": [
       "            widgets\n",
       "State_Name         \n",
       "Indiana      155230"
      ]
     },
     "execution_count": 155,
     "metadata": {},
     "output_type": "execute_result"
    }
   ],
   "source": [
    "excercise_results.sort_values('widgets')[-4:-3]"
   ]
  },
  {
   "cell_type": "code",
   "execution_count": 156,
   "metadata": {},
   "outputs": [],
   "source": [
    "Total_widgets = excercise_final.groupby('State_Name').sum()\\\n",
    ".drop(['lat','lng','State_Num'],axis=1)\\\n",
    "#.sort_values('widgets', ascending=[False])"
   ]
  },
  {
   "cell_type": "code",
   "execution_count": 161,
   "metadata": {},
   "outputs": [
    {
     "name": "stdout",
     "output_type": "stream",
     "text": [
      "                 widgets  State_Name\n",
      "State_Name                          \n",
      "Alabama     2.188058e+07     Alabama\n",
      "Arizona     9.602554e+08     Arizona\n",
      "Arkansas    1.595088e+07    Arkansas\n",
      "California  6.387734e+08  California\n",
      "Colorado    4.024012e+07    Colorado\n"
     ]
    }
   ],
   "source": [
    "Total_widgets.columns\n",
    "Total_widgets['State_Name'] = Total_widgets.index\n",
    "print(Total_widgets.head(5))\n"
   ]
  },
  {
   "cell_type": "code",
   "execution_count": 168,
   "metadata": {},
   "outputs": [],
   "source": [
    "name_2_init = pd.read_csv('states.csv')\n",
    "name_2_init.index = name_2_init['State']\n",
    "\n",
    "name_2_init_dict = name_2_init.to_dict()['Abbreviation']\n",
    "#name_2_init_dict\n",
    "Total_widgets['Abbreviation'] = Total_widgets['State_Name'].map(name_2_init_dict)"
   ]
  },
  {
   "cell_type": "code",
   "execution_count": 190,
   "metadata": {},
   "outputs": [],
   "source": [
    "import chart_studio\n",
    "chart_studio.tools.set_credentials_file(username='miladf2', api_key=plotly_api_key)"
   ]
  },
  {
   "cell_type": "code",
   "execution_count": 191,
   "metadata": {},
   "outputs": [],
   "source": [
    "import chart_studio.plotly  as py\n",
    "import pandas as pd\n",
    "py.sign_in('miladf2', plotly_api_key)\n",
    "\n",
    "df = pd.read_csv('https://raw.githubusercontent.com/plotly/datasets/master/2011_us_ag_exports.csv')\n",
    "\n",
    "for col in df.columns:\n",
    "    df[col] = df[col].astype(str)\n",
    "\n",
    "scl = [[0.0, 'rgb(242,240,247)'],[0.2, 'rgb(218,218,235)'],[0.4, 'rgb(188,189,220)'],\\\n",
    "            [0.6, 'rgb(158,154,200)'],[0.8, 'rgb(117,107,177)'],[1.0, 'rgb(84,39,143)']]"
   ]
  },
  {
   "cell_type": "code",
   "execution_count": 192,
   "metadata": {},
   "outputs": [],
   "source": [
    "data = [ dict(\n",
    "        type='choropleth',\n",
    "        colorscale = scl,\n",
    "        autocolorscale = False,\n",
    "        locations = Total_widgets['Abbreviation'],\n",
    "        z = Total_widgets['widgets'].astype(float),\n",
    "        locationmode = 'USA-states',\n",
    "        marker = dict(\n",
    "            line = dict (\n",
    "                color = 'rgb(250,255,255)',\n",
    "                width = 2\n",
    "            ) ),\n",
    "        colorbar = dict(\n",
    "            title = \"Widgets\")\n",
    "        ) ]\n",
    "\n",
    "layout = dict(\n",
    "        title = 'Widgets breakdown by State',\n",
    "        geo = dict(\n",
    "            scope='usa',\n",
    "            projection=dict( type='albers usa' ),\n",
    "            showlakes = True,\n",
    "            lakecolor = 'rgb(240, 255, 255)'),\n",
    "             )"
   ]
  },
  {
   "cell_type": "markdown",
   "metadata": {},
   "source": [
    "### Choropleth Map"
   ]
  },
  {
   "cell_type": "code",
   "execution_count": 193,
   "metadata": {},
   "outputs": [
    {
     "data": {
      "text/html": [
       "\n",
       "        <iframe\n",
       "            width=\"100%\"\n",
       "            height=\"525px\"\n",
       "            src=\"https://plotly.com/~miladf2/153.embed\"\n",
       "            frameborder=\"0\"\n",
       "            allowfullscreen\n",
       "            \n",
       "        ></iframe>\n",
       "        "
      ],
      "text/plain": [
       "<IPython.lib.display.IFrame at 0x324f0a560>"
      ]
     },
     "execution_count": 193,
     "metadata": {},
     "output_type": "execute_result"
    }
   ],
   "source": [
    "fig = dict( data=data, layout=layout )\n",
    "py.iplot( fig, filename='d3-cloropleth-map' )"
   ]
  },
  {
   "cell_type": "markdown",
   "metadata": {},
   "source": [
    "### Sorted Widgets"
   ]
  },
  {
   "cell_type": "code",
   "execution_count": 194,
   "metadata": {},
   "outputs": [
    {
     "data": {
      "text/html": [
       "<div>\n",
       "<style scoped>\n",
       "    .dataframe tbody tr th:only-of-type {\n",
       "        vertical-align: middle;\n",
       "    }\n",
       "\n",
       "    .dataframe tbody tr th {\n",
       "        vertical-align: top;\n",
       "    }\n",
       "\n",
       "    .dataframe thead th {\n",
       "        text-align: right;\n",
       "    }\n",
       "</style>\n",
       "<table border=\"1\" class=\"dataframe\">\n",
       "  <thead>\n",
       "    <tr style=\"text-align: right;\">\n",
       "      <th></th>\n",
       "      <th>widgets</th>\n",
       "      <th>State_Name</th>\n",
       "      <th>Abbreviation</th>\n",
       "    </tr>\n",
       "    <tr>\n",
       "      <th>State_Name</th>\n",
       "      <th></th>\n",
       "      <th></th>\n",
       "      <th></th>\n",
       "    </tr>\n",
       "  </thead>\n",
       "  <tbody>\n",
       "    <tr>\n",
       "      <th>Arizona</th>\n",
       "      <td>9.602554e+08</td>\n",
       "      <td>Arizona</td>\n",
       "      <td>AZ</td>\n",
       "    </tr>\n",
       "    <tr>\n",
       "      <th>California</th>\n",
       "      <td>6.387734e+08</td>\n",
       "      <td>California</td>\n",
       "      <td>CA</td>\n",
       "    </tr>\n",
       "    <tr>\n",
       "      <th>Ohio</th>\n",
       "      <td>3.291180e+08</td>\n",
       "      <td>Ohio</td>\n",
       "      <td>OH</td>\n",
       "    </tr>\n",
       "    <tr>\n",
       "      <th>New Mexico</th>\n",
       "      <td>2.233569e+08</td>\n",
       "      <td>New Mexico</td>\n",
       "      <td>NM</td>\n",
       "    </tr>\n",
       "    <tr>\n",
       "      <th>Indiana</th>\n",
       "      <td>1.930427e+08</td>\n",
       "      <td>Indiana</td>\n",
       "      <td>IN</td>\n",
       "    </tr>\n",
       "    <tr>\n",
       "      <th>Nevada</th>\n",
       "      <td>1.682569e+08</td>\n",
       "      <td>Nevada</td>\n",
       "      <td>NV</td>\n",
       "    </tr>\n",
       "    <tr>\n",
       "      <th>Texas</th>\n",
       "      <td>1.527046e+08</td>\n",
       "      <td>Texas</td>\n",
       "      <td>TX</td>\n",
       "    </tr>\n",
       "    <tr>\n",
       "      <th>West Virginia</th>\n",
       "      <td>1.371762e+08</td>\n",
       "      <td>West Virginia</td>\n",
       "      <td>WV</td>\n",
       "    </tr>\n",
       "    <tr>\n",
       "      <th>Georgia</th>\n",
       "      <td>1.290879e+08</td>\n",
       "      <td>Georgia</td>\n",
       "      <td>GA</td>\n",
       "    </tr>\n",
       "    <tr>\n",
       "      <th>Louisiana</th>\n",
       "      <td>1.114470e+08</td>\n",
       "      <td>Louisiana</td>\n",
       "      <td>LA</td>\n",
       "    </tr>\n",
       "    <tr>\n",
       "      <th>Virginia</th>\n",
       "      <td>1.105267e+08</td>\n",
       "      <td>Virginia</td>\n",
       "      <td>VA</td>\n",
       "    </tr>\n",
       "    <tr>\n",
       "      <th>Pennsylvania</th>\n",
       "      <td>9.739607e+07</td>\n",
       "      <td>Pennsylvania</td>\n",
       "      <td>PA</td>\n",
       "    </tr>\n",
       "    <tr>\n",
       "      <th>Idaho</th>\n",
       "      <td>8.900103e+07</td>\n",
       "      <td>Idaho</td>\n",
       "      <td>ID</td>\n",
       "    </tr>\n",
       "    <tr>\n",
       "      <th>Kansas</th>\n",
       "      <td>8.888942e+07</td>\n",
       "      <td>Kansas</td>\n",
       "      <td>KS</td>\n",
       "    </tr>\n",
       "    <tr>\n",
       "      <th>North Carolina</th>\n",
       "      <td>8.289202e+07</td>\n",
       "      <td>North Carolina</td>\n",
       "      <td>NC</td>\n",
       "    </tr>\n",
       "    <tr>\n",
       "      <th>South Carolina</th>\n",
       "      <td>8.161694e+07</td>\n",
       "      <td>South Carolina</td>\n",
       "      <td>SC</td>\n",
       "    </tr>\n",
       "    <tr>\n",
       "      <th>Kentucky</th>\n",
       "      <td>7.280694e+07</td>\n",
       "      <td>Kentucky</td>\n",
       "      <td>KY</td>\n",
       "    </tr>\n",
       "    <tr>\n",
       "      <th>Oregon</th>\n",
       "      <td>7.258800e+07</td>\n",
       "      <td>Oregon</td>\n",
       "      <td>OR</td>\n",
       "    </tr>\n",
       "    <tr>\n",
       "      <th>Mississippi</th>\n",
       "      <td>6.183611e+07</td>\n",
       "      <td>Mississippi</td>\n",
       "      <td>MS</td>\n",
       "    </tr>\n",
       "    <tr>\n",
       "      <th>Utah</th>\n",
       "      <td>5.169616e+07</td>\n",
       "      <td>Utah</td>\n",
       "      <td>UT</td>\n",
       "    </tr>\n",
       "    <tr>\n",
       "      <th>Maryland</th>\n",
       "      <td>4.367569e+07</td>\n",
       "      <td>Maryland</td>\n",
       "      <td>MD</td>\n",
       "    </tr>\n",
       "    <tr>\n",
       "      <th>Florida</th>\n",
       "      <td>4.335741e+07</td>\n",
       "      <td>Florida</td>\n",
       "      <td>FL</td>\n",
       "    </tr>\n",
       "    <tr>\n",
       "      <th>Montana</th>\n",
       "      <td>4.076266e+07</td>\n",
       "      <td>Montana</td>\n",
       "      <td>MT</td>\n",
       "    </tr>\n",
       "    <tr>\n",
       "      <th>Colorado</th>\n",
       "      <td>4.024012e+07</td>\n",
       "      <td>Colorado</td>\n",
       "      <td>CO</td>\n",
       "    </tr>\n",
       "    <tr>\n",
       "      <th>Illinois</th>\n",
       "      <td>3.411779e+07</td>\n",
       "      <td>Illinois</td>\n",
       "      <td>IL</td>\n",
       "    </tr>\n",
       "    <tr>\n",
       "      <th>Oklahoma</th>\n",
       "      <td>3.071571e+07</td>\n",
       "      <td>Oklahoma</td>\n",
       "      <td>OK</td>\n",
       "    </tr>\n",
       "    <tr>\n",
       "      <th>Washington</th>\n",
       "      <td>3.004964e+07</td>\n",
       "      <td>Washington</td>\n",
       "      <td>WA</td>\n",
       "    </tr>\n",
       "    <tr>\n",
       "      <th>Michigan</th>\n",
       "      <td>2.570735e+07</td>\n",
       "      <td>Michigan</td>\n",
       "      <td>MI</td>\n",
       "    </tr>\n",
       "    <tr>\n",
       "      <th>Tennessee</th>\n",
       "      <td>2.237004e+07</td>\n",
       "      <td>Tennessee</td>\n",
       "      <td>TN</td>\n",
       "    </tr>\n",
       "    <tr>\n",
       "      <th>Alabama</th>\n",
       "      <td>2.188058e+07</td>\n",
       "      <td>Alabama</td>\n",
       "      <td>AL</td>\n",
       "    </tr>\n",
       "    <tr>\n",
       "      <th>Wisconsin</th>\n",
       "      <td>1.758072e+07</td>\n",
       "      <td>Wisconsin</td>\n",
       "      <td>WI</td>\n",
       "    </tr>\n",
       "    <tr>\n",
       "      <th>Missouri</th>\n",
       "      <td>1.730839e+07</td>\n",
       "      <td>Missouri</td>\n",
       "      <td>MO</td>\n",
       "    </tr>\n",
       "    <tr>\n",
       "      <th>Arkansas</th>\n",
       "      <td>1.595088e+07</td>\n",
       "      <td>Arkansas</td>\n",
       "      <td>AR</td>\n",
       "    </tr>\n",
       "    <tr>\n",
       "      <th>Iowa</th>\n",
       "      <td>1.233624e+07</td>\n",
       "      <td>Iowa</td>\n",
       "      <td>IA</td>\n",
       "    </tr>\n",
       "    <tr>\n",
       "      <th>New Jersey</th>\n",
       "      <td>9.135404e+06</td>\n",
       "      <td>New Jersey</td>\n",
       "      <td>NJ</td>\n",
       "    </tr>\n",
       "    <tr>\n",
       "      <th>Delaware</th>\n",
       "      <td>9.021582e+06</td>\n",
       "      <td>Delaware</td>\n",
       "      <td>DE</td>\n",
       "    </tr>\n",
       "    <tr>\n",
       "      <th>New York</th>\n",
       "      <td>7.155954e+06</td>\n",
       "      <td>New York</td>\n",
       "      <td>NY</td>\n",
       "    </tr>\n",
       "    <tr>\n",
       "      <th>Massachusetts</th>\n",
       "      <td>5.111767e+06</td>\n",
       "      <td>Massachusetts</td>\n",
       "      <td>MA</td>\n",
       "    </tr>\n",
       "    <tr>\n",
       "      <th>Minnesota</th>\n",
       "      <td>2.883346e+06</td>\n",
       "      <td>Minnesota</td>\n",
       "      <td>MN</td>\n",
       "    </tr>\n",
       "    <tr>\n",
       "      <th>Wyoming</th>\n",
       "      <td>2.621347e+06</td>\n",
       "      <td>Wyoming</td>\n",
       "      <td>WY</td>\n",
       "    </tr>\n",
       "    <tr>\n",
       "      <th>Nebraska</th>\n",
       "      <td>6.278279e+05</td>\n",
       "      <td>Nebraska</td>\n",
       "      <td>NE</td>\n",
       "    </tr>\n",
       "    <tr>\n",
       "      <th>Hawaii</th>\n",
       "      <td>3.777826e+05</td>\n",
       "      <td>Hawaii</td>\n",
       "      <td>HI</td>\n",
       "    </tr>\n",
       "    <tr>\n",
       "      <th>Rhode Island</th>\n",
       "      <td>3.020544e+05</td>\n",
       "      <td>Rhode Island</td>\n",
       "      <td>RI</td>\n",
       "    </tr>\n",
       "    <tr>\n",
       "      <th>Connecticut</th>\n",
       "      <td>2.952323e+05</td>\n",
       "      <td>Connecticut</td>\n",
       "      <td>CT</td>\n",
       "    </tr>\n",
       "    <tr>\n",
       "      <th>District of Columbia</th>\n",
       "      <td>2.191525e+05</td>\n",
       "      <td>District of Columbia</td>\n",
       "      <td>DC</td>\n",
       "    </tr>\n",
       "    <tr>\n",
       "      <th>New Hampshire</th>\n",
       "      <td>8.316689e+04</td>\n",
       "      <td>New Hampshire</td>\n",
       "      <td>NH</td>\n",
       "    </tr>\n",
       "    <tr>\n",
       "      <th>Maine</th>\n",
       "      <td>5.598026e+04</td>\n",
       "      <td>Maine</td>\n",
       "      <td>ME</td>\n",
       "    </tr>\n",
       "    <tr>\n",
       "      <th>Vermont</th>\n",
       "      <td>3.241571e+04</td>\n",
       "      <td>Vermont</td>\n",
       "      <td>VT</td>\n",
       "    </tr>\n",
       "    <tr>\n",
       "      <th>South Dakota</th>\n",
       "      <td>9.903684e+03</td>\n",
       "      <td>South Dakota</td>\n",
       "      <td>SD</td>\n",
       "    </tr>\n",
       "  </tbody>\n",
       "</table>\n",
       "</div>"
      ],
      "text/plain": [
       "                           widgets            State_Name Abbreviation\n",
       "State_Name                                                           \n",
       "Arizona               9.602554e+08               Arizona           AZ\n",
       "California            6.387734e+08            California           CA\n",
       "Ohio                  3.291180e+08                  Ohio           OH\n",
       "New Mexico            2.233569e+08            New Mexico           NM\n",
       "Indiana               1.930427e+08               Indiana           IN\n",
       "Nevada                1.682569e+08                Nevada           NV\n",
       "Texas                 1.527046e+08                 Texas           TX\n",
       "West Virginia         1.371762e+08         West Virginia           WV\n",
       "Georgia               1.290879e+08               Georgia           GA\n",
       "Louisiana             1.114470e+08             Louisiana           LA\n",
       "Virginia              1.105267e+08              Virginia           VA\n",
       "Pennsylvania          9.739607e+07          Pennsylvania           PA\n",
       "Idaho                 8.900103e+07                 Idaho           ID\n",
       "Kansas                8.888942e+07                Kansas           KS\n",
       "North Carolina        8.289202e+07        North Carolina           NC\n",
       "South Carolina        8.161694e+07        South Carolina           SC\n",
       "Kentucky              7.280694e+07              Kentucky           KY\n",
       "Oregon                7.258800e+07                Oregon           OR\n",
       "Mississippi           6.183611e+07           Mississippi           MS\n",
       "Utah                  5.169616e+07                  Utah           UT\n",
       "Maryland              4.367569e+07              Maryland           MD\n",
       "Florida               4.335741e+07               Florida           FL\n",
       "Montana               4.076266e+07               Montana           MT\n",
       "Colorado              4.024012e+07              Colorado           CO\n",
       "Illinois              3.411779e+07              Illinois           IL\n",
       "Oklahoma              3.071571e+07              Oklahoma           OK\n",
       "Washington            3.004964e+07            Washington           WA\n",
       "Michigan              2.570735e+07              Michigan           MI\n",
       "Tennessee             2.237004e+07             Tennessee           TN\n",
       "Alabama               2.188058e+07               Alabama           AL\n",
       "Wisconsin             1.758072e+07             Wisconsin           WI\n",
       "Missouri              1.730839e+07              Missouri           MO\n",
       "Arkansas              1.595088e+07              Arkansas           AR\n",
       "Iowa                  1.233624e+07                  Iowa           IA\n",
       "New Jersey            9.135404e+06            New Jersey           NJ\n",
       "Delaware              9.021582e+06              Delaware           DE\n",
       "New York              7.155954e+06              New York           NY\n",
       "Massachusetts         5.111767e+06         Massachusetts           MA\n",
       "Minnesota             2.883346e+06             Minnesota           MN\n",
       "Wyoming               2.621347e+06               Wyoming           WY\n",
       "Nebraska              6.278279e+05              Nebraska           NE\n",
       "Hawaii                3.777826e+05                Hawaii           HI\n",
       "Rhode Island          3.020544e+05          Rhode Island           RI\n",
       "Connecticut           2.952323e+05           Connecticut           CT\n",
       "District of Columbia  2.191525e+05  District of Columbia           DC\n",
       "New Hampshire         8.316689e+04         New Hampshire           NH\n",
       "Maine                 5.598026e+04                 Maine           ME\n",
       "Vermont               3.241571e+04               Vermont           VT\n",
       "South Dakota          9.903684e+03          South Dakota           SD"
      ]
     },
     "execution_count": 194,
     "metadata": {},
     "output_type": "execute_result"
    }
   ],
   "source": [
    "Total_widgets.sort_values('widgets', ascending=[False])"
   ]
  },
  {
   "cell_type": "code",
   "execution_count": null,
   "metadata": {},
   "outputs": [],
   "source": []
  },
  {
   "cell_type": "code",
   "execution_count": null,
   "metadata": {},
   "outputs": [],
   "source": []
  }
 ],
 "metadata": {
  "kernelspec": {
   "display_name": "Python 3 (ipykernel)",
   "language": "python",
   "name": "python3"
  },
  "language_info": {
   "codemirror_mode": {
    "name": "ipython",
    "version": 3
   },
   "file_extension": ".py",
   "mimetype": "text/x-python",
   "name": "python",
   "nbconvert_exporter": "python",
   "pygments_lexer": "ipython3",
   "version": "3.10.9"
  }
 },
 "nbformat": 4,
 "nbformat_minor": 2
}
